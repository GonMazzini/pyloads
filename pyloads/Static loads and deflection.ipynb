{
 "cells": [
  {
   "cell_type": "code",
   "execution_count": 1,
   "metadata": {},
   "outputs": [],
   "source": [
    "import numpy as np\n",
    "import pandas as pd\n",
    "import math as m\n",
    "from scipy.optimize import fsolve\n",
    "import matplotlib.pyplot as plt \n",
    "import warnings"
   ]
  },
  {
   "cell_type": "markdown",
   "metadata": {},
   "source": [
    "## Usefull func"
   ]
  },
  {
   "cell_type": "code",
   "execution_count": 2,
   "metadata": {},
   "outputs": [],
   "source": [
    "def power_plotter(u,P):\n",
    "  \"\"\"Plot the power curve for a given array of wind speeds.\"\"\"\n",
    "  plt.figure(figsize=[20,12])\n",
    "  plt.plot(u,P,'--x')\n",
    "  plt.ylabel('P [MW]',fontsize=20)\n",
    "  plt.xlabel('V [m/s]',fontsize=20)\n",
    "  plt.xticks(fontsize=15)\n",
    "  plt.yticks(fontsize=15)\n",
    "  plt.grid()\n",
    "  #plt.savefig(\"Q3_pow.jpg\")\n",
    "  #files.download(\"Q3_pow.jpg\") \n",
    "  plt.show()\n",
    "def thrust_plotter(u,T):\n",
    "  \"\"\"Plot the thrust curve for a given array of wind speeds.\"\"\"\n",
    "  plt.figure(figsize=[20,12])\n",
    "  plt.plot(u,T,'--x')\n",
    "  plt.ylabel('T [kN]',fontsize=20)\n",
    "  plt.xlabel('V [m/s]',fontsize=20)\n",
    "  plt.xticks(fontsize=15)\n",
    "  plt.yticks(fontsize=15)\n",
    "  plt.grid()\n",
    "  #plt.savefig(\"Q3_thr.jpg\")\n",
    "  #files.download(\"Q3_thr.jpg\") \n",
    "  plt.show()\n",
    "def bending_plotter(r,Mz,My,u):\n",
    "  \"\"\"Plot the bendins moment in axe z (vertial) and ax y\"\"\"\n",
    "  plt.figure(figsize=[20,12])\n",
    "  plt.title(r\"$v_0$=\"+str(u)+\" [m/s]\",fontsize=20)\n",
    "  plt.plot(r,Mz/10**6,label=r\"$M_z$\")\n",
    "  plt.plot(r,My/10**6,label=r\"$M_y$\")\n",
    "  plt.ylabel('Mbend [MNm]',fontsize=20)\n",
    "  plt.xlabel('r [m]',fontsize=20)\n",
    "  plt.legend(fontsize=20)\n",
    "  plt.xticks(fontsize=15)\n",
    "  plt.yticks(fontsize=15)\n",
    "  plt.grid()\n",
    "  #plt.savefig(\"Q3_thr.jpg\")\n",
    "  #files.download(\"Q3_thr.jpg\") \n",
    "  plt.show()\n",
    "def deflection_plotter(r,uy,uz,u):\n",
    "  \"\"\"Plot the deflection in axe z and y\"\"\"\n",
    "  plt.figure(figsize=[20,12])\n",
    "  plt.title(r\"$v_0$=\"+str(u)+\" [m/s]\",fontsize=20)\n",
    "  plt.plot(r,uy,label=r\"$u_y$\")\n",
    "  plt.plot(r,uz,label=r\"$u_z$\")\n",
    "  plt.ylabel('u(x) [m]',fontsize=20)\n",
    "  plt.xlabel('r [m]',fontsize=20)\n",
    "  plt.legend(fontsize=20)\n",
    "  plt.xticks(fontsize=15)\n",
    "  plt.yticks(fontsize=15)\n",
    "  plt.grid()\n",
    "  #plt.savefig(\"Q3_thr.jpg\")\n",
    "  #files.download(\"Q3_thr.jpg\") \n",
    "  plt.show()\n",
    "def eigen_plotter(r,ymode,zmode,w1,w2):\n",
    "    plt.figure(figsize=[20,12])\n",
    "    plt.title(r\"$\\omega_y$=\"+str(w1)+\" $\\omega_z$=\"+str(w2)+\" [rad/s]\",fontsize=20)\n",
    "    plt.plot(r,ymode,label=r\"$u_y$\")\n",
    "    plt.plot(r,zmode,label=r\"$u_z$\")\n",
    "    plt.ylabel(r'$u/$abs($u$)$_{max}$',fontsize=20)\n",
    "    plt.xlabel('r/R',fontsize=20)\n",
    "    plt.legend(fontsize=20)\n",
    "    plt.xticks(fontsize=15)\n",
    "    plt.yticks(fontsize=15)\n",
    "    plt.grid()\n",
    "    #plt.savefig(\"Q3_thr.jpg\")\n",
    "    #files.download(\"Q3_thr.jpg\") \n",
    "    plt.show()"
   ]
  },
  {
   "cell_type": "code",
   "execution_count": 3,
   "metadata": {},
   "outputs": [],
   "source": [
    "def integrate(Y,r):\n",
    "  \"\"\"Used for calculation of power\"\"\"\n",
    "#PASSA viddir a loads og r [m]\n",
    "  M=0 #dummy assignment before loop\n",
    "  for k in range(len(Y)-1):\n",
    "    A_k=(Y[k+1]-Y[k])/(r[k+1]-r[k])\n",
    "    B_k=(Y[k]*r[k+1]-Y[k+1]*r[k])/(r[k+1]-r[k])\n",
    "    M+=1/3*A_k*((r[k+1])**3-(r[k])**3)+0.5*B_k*((r[k+1])**2-(r[k])**2)\n",
    "  return M"
   ]
  },
  {
   "cell_type": "code",
   "execution_count": 4,
   "metadata": {},
   "outputs": [],
   "source": [
    "def thruster(pN,r):\n",
    "  #[r] m\n",
    "  T = 0\n",
    "  for i in range(len(pN) - 1):\n",
    "      T += (pN[i + 1] + pN[i]) * 0.5 * (r[i + 1] - r[i])\n",
    "  return T * B"
   ]
  },
  {
   "cell_type": "code",
   "execution_count": 5,
   "metadata": {},
   "outputs": [],
   "source": [
    "def polar(alpha):\n",
    "    \"\"\"\n",
    "    param alpha: Angle of attack [deg]\n",
    "    return cl: Lift coefficient [-]\n",
    "    return cd: Drag coefficient [-] \"\"\"\n",
    "    idx = af_data.iloc[(af_data['alpha'] - alpha).abs().argsort()[:2]]\n",
    "    gradcl = (idx.cl.iloc[1] - idx.cl.iloc[0]) / (idx.alpha.iloc[1] - idx.alpha.iloc[0])\n",
    "    gradcd = (idx.cd.iloc[1] - idx.cd.iloc[0]) / (idx.alpha.iloc[1] - idx.alpha.iloc[0])\n",
    "    cl = gradcl * (alpha - idx.alpha.iloc[0]) + idx.cl.iloc[0]\n",
    "    cd = gradcd * (alpha - idx.alpha.iloc[0]) + idx.cd.iloc[0]\n",
    "    return cl, cd"
   ]
  },
  {
   "cell_type": "markdown",
   "metadata": {},
   "source": [
    "# Bem code with double interpolation"
   ]
  },
  {
   "cell_type": "code",
   "execution_count": 6,
   "metadata": {},
   "outputs": [],
   "source": [
    "def Glauert_eq(x,sigma,F,phi,Cn):\n",
    "    return [x[0]-((1-x[1])**2*sigma*Cn)/(m.sin(phi)**2), x[0]-4*x[1]*(1-0.25*(5-3*x[1])*x[1])*F]"
   ]
  },
  {
   "cell_type": "code",
   "execution_count": 7,
   "metadata": {},
   "outputs": [],
   "source": [
    "#v=[v_rel,v0]\n",
    "def Vrel_eq(v,phi,TSR,a,aa):\n",
    "  return [v[0]*m.sin(phi)-v[1]*(1-a),v[0]*m.cos(phi)-TSR*v[1]*(1+aa)]"
   ]
  },
  {
   "cell_type": "code",
   "execution_count": 47,
   "metadata": {},
   "outputs": [],
   "source": [
    "#R is a global \n",
    "#rho is a global\n",
    "#double_interp func assumes af_dat to be global\n",
    "\n",
    "def normal_tangential_loads(TSR,v_0,theta,r,c,t_c,a=0.2,aa=0.2,i=0,imax=100):\n",
    "  tol_a,tol_aa=10,10\n",
    "  sigma=(c*B)/(2*m.pi*r)\n",
    "\n",
    "  while tol_a>10**(-3) and tol_aa>10**(-3) and i<imax:\n",
    "    a0,aa0=a,aa\n",
    "    phi=m.atan(((1-a)*R)/((1+aa)*TSR*r))\n",
    "    alpha=np.rad2deg(phi)-theta\n",
    "    Cl,Cd=Double_interpol(alpha,t_c)\n",
    "    Cn=Cl*m.cos(phi)+Cd*m.sin(phi)\n",
    "    Ct=Cl*m.sin(phi)-Cd*m.cos(phi)\n",
    "    F=(2/m.pi)*m.acos(m.exp(-(B/2)*(R-r)/(r*m.sin(abs(phi)))))\n",
    "\n",
    "    #update a\n",
    "    if a<=1/3:\n",
    "      a=1/(((4*F*m.sin(phi)**2)/(sigma*Cn))+1)\n",
    "    #glauert correction\n",
    "    else:\n",
    "      #solving for CT and a iteratively using the fsolve function\n",
    "      #[1,a] is the initial guess, that is C_T=1 and a_n=a_(n-1)\n",
    "      #args=(sigma,F,phi,Cn) are the known input parameters for solving C_T and a\n",
    "      #returns the solution vector x where C_T=x[0] and a=x[1]\n",
    "      print(a)  \n",
    "      CT,a=fsolve(Glauert_eq, [1, a],args=(sigma,F,phi,Cn))\n",
    "      print(f'CT glauert= {CT}, and a = {a}')\n",
    "\n",
    "      #beta = 0.05\n",
    "      #CT = (1 - a)**2 * sigma * Cn / m.sin(phi)**2\n",
    "      #aa_star = CT / (4 * F * (1 - 0.25 * (5 - 3 * a) * a))\n",
    "      #aa = beta * aa_star + (1 - beta) * a\n",
    "\n",
    "    #Update a'\n",
    "    aa=1/(((4*F*m.sin(phi)*m.cos(phi))/(sigma*Ct))-1)\n",
    "\n",
    "    #print(alpha)           \n",
    "    tol_a,tol_aa=abs(a-a0),abs(aa-aa0)\n",
    "    i+=1\n",
    "\n",
    "  #Vrel\n",
    "  print(v_0)\n",
    "  print(phi)\n",
    "  print(a)\n",
    "  v_rel=(v_0/m.sin(phi))*(1-a)\n",
    "\n",
    "\n",
    "  #Local loads\n",
    "  pT=0.5*Ct*rho*(v_rel**2)*c\n",
    "  pN=0.5*Cn*rho*(v_rel**2)*c\n",
    "\n",
    "  if i==imax:\n",
    "    print('NON CONVERGENCE')\n",
    "    \n",
    "  return pT,pN\n"
   ]
  },
  {
   "cell_type": "code",
   "execution_count": 9,
   "metadata": {},
   "outputs": [],
   "source": [
    "def power(TSR,u,theta,r,c,t_c):\n",
    "  pT=np.zeros(len(r))\n",
    "  pN=np.zeros(len(r))\n",
    "  for i in range(len(r)):\n",
    "    try:\n",
    "#         if i != 0 and i!= 1:\n",
    "#             pass\n",
    "#         else:\n",
    "#             print(f'tsr={TSR}. u={u}, theta={theta[i]}, r={r[i]}, c={c[i]}, t_c={t_c[i]}')  \n",
    "        pT[i],pN[i]=normal_tangential_loads(TSR,u,theta[i],r[i],c[i],t_c[i])\n",
    "    except TypeError:\n",
    "        pT[i],pN[i]=np.nan,np.nan\n",
    "  #append and assign values at r=R\n",
    "  r=np.append(r,R)\n",
    "  pT=np.append(pT,0)\n",
    "  pN=np.append(pN,0)\n",
    "  w=TSR*u/R\n",
    "  P=integrate(pT,r)*B*w\n",
    "  T=thruster(pN,r)\n",
    "  return P,T,pT,pN"
   ]
  },
  {
   "cell_type": "code",
   "execution_count": 10,
   "metadata": {},
   "outputs": [],
   "source": [
    "#Assumes af_dat to be global\n",
    "def Double_interpol(alpha,t_c):\n",
    "    cyl,Cl_vec,Cd_vec=np.zeros(len(af_dat)),np.zeros(len(af_dat)),np.zeros(len(af_dat))    \n",
    "    j=0\n",
    "    for key in af_dat:     \n",
    "        df=af_dat[key]\n",
    "        Cl_vec[j]=np.interp(alpha,df.alpha.to_numpy(), df.cl.to_numpy())\n",
    "        Cd_vec[j]=np.interp(alpha,df.alpha.to_numpy(), df.cd.to_numpy())\n",
    "        cyl[j]=key/10\n",
    "        j+=1\n",
    "    Cl=np.interp(t_c,cyl,Cl_vec)\n",
    "    Cd=np.interp(t_c,cyl,Cd_vec)\n",
    "    \n",
    "    print(f'alpha:{alpha}, t_c={t_c}')\n",
    "    print(f'Cd= {Cd} \\t Cl= {Cl}')\n",
    "    return Cl,Cd\n",
    "\n",
    "# Double_interpol(alpha=2, t_c=2.41)"
   ]
  },
  {
   "cell_type": "markdown",
   "metadata": {},
   "source": [
    "## DTU 10 MW ref WT normal_tangential_loads exercise"
   ]
  },
  {
   "cell_type": "code",
   "execution_count": 11,
   "metadata": {},
   "outputs": [
    {
     "data": {
      "text/html": [
       "<div>\n",
       "<style scoped>\n",
       "    .dataframe tbody tr th:only-of-type {\n",
       "        vertical-align: middle;\n",
       "    }\n",
       "\n",
       "    .dataframe tbody tr th {\n",
       "        vertical-align: top;\n",
       "    }\n",
       "\n",
       "    .dataframe thead th {\n",
       "        text-align: right;\n",
       "    }\n",
       "</style>\n",
       "<table border=\"1\" class=\"dataframe\">\n",
       "  <thead>\n",
       "    <tr style=\"text-align: right;\">\n",
       "      <th></th>\n",
       "      <th>r</th>\n",
       "      <th>beta</th>\n",
       "      <th>c</th>\n",
       "      <th>t_c</th>\n",
       "    </tr>\n",
       "  </thead>\n",
       "  <tbody>\n",
       "    <tr>\n",
       "      <th>0</th>\n",
       "      <td>2.8</td>\n",
       "      <td>14.5</td>\n",
       "      <td>5.38</td>\n",
       "      <td>100.0</td>\n",
       "    </tr>\n",
       "  </tbody>\n",
       "</table>\n",
       "</div>"
      ],
      "text/plain": [
       "     r  beta     c    t_c\n",
       "0  2.8  14.5  5.38  100.0"
      ]
     },
     "execution_count": 11,
     "metadata": {},
     "output_type": "execute_result"
    }
   ],
   "source": [
    "blade_dat=pd.read_csv('bladedat.txt',sep='\\t',names=['r','beta','c','t_c'])\n",
    "\n",
    "blade_dat.head(1)"
   ]
  },
  {
   "cell_type": "code",
   "execution_count": 12,
   "metadata": {},
   "outputs": [],
   "source": [
    "af_dat={}\n",
    "for i in [241,301,360,480,600]:\n",
    "    af_dat[i]=pd.read_csv('FFA-W3-'+str(i)+'.txt',sep='\\t',names=['alpha','cl','cd','cm'])\n",
    "af_dat[1000]=pd.read_csv('cylinder.txt',sep='\\t',names=['alpha','cl','cd','cm'])\n"
   ]
  },
  {
   "cell_type": "code",
   "execution_count": 13,
   "metadata": {},
   "outputs": [
    {
     "name": "stdout",
     "output_type": "stream",
     "text": [
      "241\n",
      "301\n",
      "360\n",
      "480\n",
      "600\n",
      "1000\n"
     ]
    }
   ],
   "source": [
    "for key in af_dat:\n",
    "    print(key)"
   ]
  },
  {
   "cell_type": "code",
   "execution_count": 14,
   "metadata": {},
   "outputs": [],
   "source": [
    "WT_data=pd.read_csv('operation.txt', sep='\\s+')\n",
    "\n",
    "WT_data.index=WT_data.u    #Should drop u column ?"
   ]
  },
  {
   "cell_type": "code",
   "execution_count": 31,
   "metadata": {},
   "outputs": [
    {
     "data": {
      "text/plain": [
       "0.8959999999999999"
      ]
     },
     "execution_count": 31,
     "metadata": {},
     "output_type": "execute_result"
    }
   ],
   "source": [
    "pitch"
   ]
  },
  {
   "cell_type": "code",
   "execution_count": 41,
   "metadata": {},
   "outputs": [],
   "source": [
    "df.beta+pitch,df.r,df.c,df.t_c\n",
    "u=6"
   ]
  },
  {
   "cell_type": "code",
   "execution_count": 48,
   "metadata": {},
   "outputs": [
    {
     "name": "stdout",
     "output_type": "stream",
     "text": [
      "alpha:5.680967035110668, t_c=24.1000016\n",
      "Cd= 0.010740484220818981 \t Cl= 1.0280338670080895\n",
      "alpha:5.321486262404141, t_c=24.1000016\n",
      "Cd= 0.010560743830631257 \t Cl= 0.9857050057362288\n",
      "0.382097570199005\n",
      "CT glauert= 0.9627252396141207, and a = 0.40013053307327817\n",
      "6\n",
      "0.0760182955781175\n",
      "0.40013053307327817\n"
     ]
    },
    {
     "data": {
      "text/plain": [
       "(224.42493041045338, 3431.689261864446)"
      ]
     },
     "execution_count": 48,
     "metadata": {},
     "output_type": "execute_result"
    }
   ],
   "source": [
    "normal_tangential_loads(TSR,u,df.beta[10]+pitch,df.r[10],df.c[10],df.t_c[10])"
   ]
  },
  {
   "cell_type": "code",
   "execution_count": 15,
   "metadata": {},
   "outputs": [],
   "source": [
    "R=89.166\n",
    "B=3\n",
    "P_rat=10000*10**3\n",
    "u_cutin=4\n",
    "u_cutout=25\n",
    "rho=1.225"
   ]
  },
  {
   "cell_type": "markdown",
   "metadata": {},
   "source": [
    "## Q1 Compute the normal and tangential loads for ws 6,11 and 20 m/s."
   ]
  },
  {
   "cell_type": "code",
   "execution_count": 16,
   "metadata": {},
   "outputs": [],
   "source": [
    "u,pitch,rpm=WT_data.loc[6]"
   ]
  },
  {
   "cell_type": "code",
   "execution_count": 17,
   "metadata": {},
   "outputs": [
    {
     "data": {
      "text/plain": [
       "u        6.000\n",
       "pitch    0.896\n",
       "RPM      6.000\n",
       "Name: 6.0, dtype: float64"
      ]
     },
     "execution_count": 17,
     "metadata": {},
     "output_type": "execute_result"
    }
   ],
   "source": [
    "WT_data.loc[6]"
   ]
  },
  {
   "cell_type": "code",
   "execution_count": 18,
   "metadata": {
    "collapsed": true
   },
   "outputs": [
    {
     "name": "stdout",
     "output_type": "stream",
     "text": [
      "9.337441684999582\n",
      "0.6283185307179586\n",
      "0.8959999999999999\n",
      "tsr=9.337441684999582. u=6, theta=15.396, r=2.8, c=5.38, t_c=100.0\n",
      "alpha:50.86300387144374, t_c=100.0\n",
      "Cd= 0.6 \t Cl= 0.0\n",
      "alpha:58.262054906883805, t_c=100.0\n",
      "Cd= 0.6 \t Cl= 0.0\n",
      "alpha:58.262054906883805, t_c=100.0\n",
      "Cd= 0.6 \t Cl= 0.0\n",
      "tsr=9.337441684999582. u=6, theta=15.328008800000003, r=11.0027383, c=5.45248001, t_c=86.0491476\n",
      "alpha:14.725717420863678, t_c=86.0491476\n",
      "Cd= 0.4500897546280047 \t Cl= 0.1262066342476961\n",
      "alpha:24.710288293171143, t_c=86.0491476\n",
      "Cd= 0.5040385491297742 \t Cl= 0.24085462624401177\n",
      "alpha:24.416195230898513, t_c=86.0491476\n",
      "Cd= 0.5024979293664613 \t Cl= 0.23705231102257318\n",
      "alpha:7.231780704079529, t_c=61.0969583\n",
      "Cd= 0.10370308320003525 \t Cl= -0.0907469236586027\n",
      "alpha:16.868452157315286, t_c=61.0969583\n",
      "Cd= 0.21002149196604822 \t Cl= 0.44060553121498425\n",
      "alpha:14.140712003277375, t_c=61.0969583\n",
      "Cd= 0.1745499922469352 \t Cl= 0.3265897899271382\n",
      "alpha:14.407514202003789, t_c=61.0969583\n",
      "Cd= 0.17793108735511148 \t Cl= 0.3381498656807263\n",
      "alpha:5.706179298266191, t_c=43.0356446\n",
      "Cd= 0.034205302628294756 \t Cl= 1.1555516930192495\n",
      "alpha:5.142866372888051, t_c=43.0356446\n",
      "Cd= 0.03222840774982512 \t Cl= 1.0968783755878344\n",
      "alpha:5.076327024620648, t_c=43.0356446\n",
      "Cd= 0.03199489402968771 \t Cl= 1.08994779734848\n",
      "alpha:3.869082940208891, t_c=32.4150527\n",
      "Cd= 0.015239810881341263 \t Cl= 0.9203444128195789\n",
      "alpha:3.3898879666387973, t_c=32.4150527\n",
      "Cd= 0.015080343855632868 \t Cl= 0.855613331975777\n",
      "alpha:3.37735067454995, t_c=32.4150527\n",
      "Cd= 0.015076171681903769 \t Cl= 0.8539197573088323\n",
      "alpha:3.1366614951488163, t_c=27.8103477\n",
      "Cd= 0.011262753351834551 \t Cl= 0.7161907133995934\n",
      "alpha:3.1520233774929327, t_c=27.8103477\n",
      "Cd= 0.011266783815503324 \t Cl= 0.7181056628276482\n",
      "alpha:3.4149860160775503, t_c=25.317976\n",
      "Cd= 0.010273071114045781 \t Cl= 0.7562716775529459\n",
      "alpha:3.210285213076625, t_c=25.317976\n",
      "Cd= 0.010221064844411432 \t Cl= 0.7311609643644288\n",
      "alpha:4.103894668872397, t_c=24.2644205\n",
      "Cd= 0.010022487998025553 \t Cl= 0.8420633887775484\n",
      "alpha:3.737761570219096, t_c=24.2644205\n",
      "Cd= 0.009904723448808961 \t Cl= 0.797872540173748\n",
      "alpha:4.764756045106483, t_c=24.1006815\n",
      "Cd= 0.010282673406261541 \t Cl= 0.92014912802214\n",
      "alpha:4.361477482203641, t_c=24.1006815\n",
      "Cd= 0.010081032292581182 \t Cl= 0.8726629407392745\n",
      "alpha:5.273114001613719, t_c=24.1\n",
      "Cd= 0.01053655700080686 \t Cl= 0.9800091736900154\n",
      "alpha:4.895808508416222, t_c=24.1\n",
      "Cd= 0.010347904254208111 \t Cl= 0.9355814518660102\n",
      "alpha:5.680967035110668, t_c=24.1000016\n",
      "Cd= 0.010740484220818981 \t Cl= 1.0280338670080895\n",
      "alpha:5.321486262404141, t_c=24.1000016\n",
      "Cd= 0.010560743830631257 \t Cl= 0.9857050057362288\n",
      "alpha:5.805544556782107, t_c=24.1000006\n",
      "Cd= 0.010802772542613233 \t Cl= 1.0427028710821453\n",
      "alpha:5.439787696439491, t_c=24.1000006\n",
      "Cd= 0.010619894110978897 \t Cl= 0.9996350006678069\n",
      "alpha:5.926017415639687, t_c=24.1\n",
      "Cd= 0.010863008707819843 \t Cl= 1.0568885506915733\n",
      "alpha:5.546481275171065, t_c=24.1\n",
      "Cd= 0.010673240637585532 \t Cl= 1.012198170151393\n",
      "alpha:6.149548639341633, t_c=24.1\n",
      "Cd= 0.011012161479506224 \t Cl= 1.0824840413816705\n",
      "alpha:5.725630861408763, t_c=24.1\n",
      "Cd= 0.010762815430704382 \t Cl= 1.033293033930882\n",
      "alpha:6.336084530779518, t_c=24.1\n",
      "Cd= 0.011152063398084638 \t Cl= 1.1035439435250076\n",
      "alpha:5.8358830289928445, t_c=24.1\n",
      "Cd= 0.010817941514496422 \t Cl= 1.0462752266639075\n",
      "alpha:6.474804253001299, t_c=24.1\n",
      "Cd= 0.011256103189750974 \t Cl= 1.1192054001638467\n",
      "alpha:5.832523596776381, t_c=24.1\n",
      "Cd= 0.010816261798388191 \t Cl= 1.045879653520419\n",
      "alpha:6.578358977405697, t_c=24.1\n",
      "Cd= 0.011333769233054273 \t Cl= 1.1308967285491034\n",
      "alpha:5.583091805730911, t_c=24.1\n",
      "Cd= 0.010691545902865456 \t Cl= 1.0165090601248148\n",
      "alpha:5.340149669651023, t_c=24.1\n",
      "Cd= 0.010570074834825511 \t Cl= 0.987902623601408\n"
     ]
    },
    {
     "data": {
      "image/png": "[encoded data removed]",
      "text/plain": [
       "<Figure size 1440x864 with 1 Axes>"
      ]
     },
     "metadata": {
      "needs_background": "light"
     },
     "output_type": "display_data"
    },
    {
     "data": {
      "image/png": "[encoded data removed]",
      "text/plain": [
       "<Figure size 1440x864 with 1 Axes>"
      ]
     },
     "metadata": {
      "needs_background": "light"
     },
     "output_type": "display_data"
    }
   ],
   "source": [
    "#u=[6,11,20]\n",
    "u=[6]\n",
    "P=np.zeros(len(u))\n",
    "T=np.zeros(len(u))\n",
    "\n",
    "df=blade_dat.iloc[0:-1]   #?\n",
    "\n",
    "pN=np.zeros([len(u),len(df.r)+1])\n",
    "pT=np.zeros([len(u),len(df.r)+1])\n",
    "\n",
    "for j in range(len(u)):\n",
    "    w=WT_data.loc[u[j]].RPM*np.pi/30\n",
    "    pitch=WT_data.loc[u[j]].pitch\n",
    "    TSR=w*R/u[j]\n",
    "    print(TSR)\n",
    "    print(w)\n",
    "    print(pitch)\n",
    "    P[j],T[j],pT[j,],pN[j,]=power(TSR,u[j],df.beta+pitch,df.r,df.c,df.t_c)\n",
    "power_plotter(u,P/10**6)\n",
    "thrust_plotter(u,T/10**3)"
   ]
  },
  {
   "cell_type": "code",
   "execution_count": 51,
   "metadata": {},
   "outputs": [
    {
     "data": {
      "text/plain": [
       "array([1533608.93315365])"
      ]
     },
     "execution_count": 51,
     "metadata": {},
     "output_type": "execute_result"
    }
   ],
   "source": [
    "P"
   ]
  },
  {
   "cell_type": "code",
   "execution_count": 60,
   "metadata": {},
   "outputs": [
    {
     "data": {
      "text/plain": [
       "array([  56.73502664,  128.66511904,  196.82870201,  955.83255009,\n",
       "       1372.0058535 , 1685.01982088, 2137.75442846, 2601.22578824,\n",
       "       2986.14621076, 3263.07927127, 3431.68926186, 3461.78866371,\n",
       "       3474.49291476, 3421.50774457, 3224.94102283, 2815.05298268,\n",
       "       2063.40641495,    0.        ])"
      ]
     },
     "execution_count": 60,
     "metadata": {},
     "output_type": "execute_result"
    }
   ],
   "source": [
    "pN[0]"
   ]
  },
  {
   "cell_type": "markdown",
   "metadata": {},
   "source": [
    "Check load distribution from Martin"
   ]
  },
  {
   "cell_type": "code",
   "execution_count": 20,
   "metadata": {},
   "outputs": [
    {
     "data": {
      "image/png": "[encoded data removed]",
      "text/plain": [
       "<Figure size 1440x864 with 1 Axes>"
      ]
     },
     "metadata": {
      "needs_background": "light"
     },
     "output_type": "display_data"
    }
   ],
   "source": [
    "#Plot the loads.\n",
    "plt.figure(figsize=[20,12])\n",
    "plt.plot(blade_dat.r, pN[0])\n",
    "plt.plot(blade_dat.r, pT[0])\n",
    "plt.ylabel('N/m', fontsize=18)\n",
    "plt.xlabel('r [m]')\n",
    "plt.grid()"
   ]
  },
  {
   "cell_type": "markdown",
   "metadata": {},
   "source": [
    "# Q2 compute  shear stress and the bending moment  distribution for the three wind speeds"
   ]
  },
  {
   "cell_type": "code",
   "execution_count": 21,
   "metadata": {},
   "outputs": [],
   "source": [
    "def shear(pT,pN,r):\n",
    "    N=len(pT)\n",
    "    Ty,Tz=np.zeros(N),np.zeros(N)\n",
    "    \n",
    "    for i in range(2,N+1):\n",
    "        Ty[N-i]=Ty[N-i+1]+0.5*(pT[N-i]+pT[N-i+1])*(r[N-i+1]-r[N-i])\n",
    "        Tz[N-i]=Tz[N-i+1]+0.5*(pN[N-i]+pN[N-i+1])*(r[N-i+1]-r[N-i])\n",
    "    \n",
    "    return Ty,Tz\n",
    "\n",
    "def bending(Ty,Tz,pT,pN,r):\n",
    "    N=len(Ty)\n",
    "    My,Mz=np.zeros(N),np.zeros(N)\n",
    "    \n",
    "    for i in range(2,N+1):\n",
    "        My[N-i]=My[N-i+1]-Tz[N-i+1]*(r[N-i+1]-r[N-i])-(1/6*pN[N-i]+1/3*pN[N-i+1])*(r[N-i+1]-r[N-i])**2\n",
    "        Mz[N-i]=Mz[N-i+1]+Ty[N-i+1]*(r[N-i+1]-r[N-i])+(1/6*pT[N-i]+1/3*pT[N-i+1])*(r[N-i+1]-r[N-i])**2\n",
    "        \n",
    "        \n",
    "    return My,Mz\n",
    "    "
   ]
  },
  {
   "cell_type": "code",
   "execution_count": 22,
   "metadata": {},
   "outputs": [
    {
     "data": {
      "image/png": "[encoded data removed]",
      "text/plain": [
       "<Figure size 1440x864 with 1 Axes>"
      ]
     },
     "metadata": {
      "needs_background": "light"
     },
     "output_type": "display_data"
    }
   ],
   "source": [
    "#Plot the shear\n",
    "plt.figure(figsize=[20,12])\n",
    "plt.plot(blade_dat.r, shear(pT[0],pN[0],blade_dat.r)[0])   #Ty\n",
    "plt.plot(blade_dat.r, shear(pT[0],pN[0],blade_dat.r)[1])\n",
    "plt.ylabel('N (?)', fontsize=18)\n",
    "plt.xlabel('r [m]')\n",
    "plt.grid()"
   ]
  },
  {
   "cell_type": "code",
   "execution_count": 23,
   "metadata": {},
   "outputs": [
    {
     "data": {
      "image/png": "[encoded data removed]",
      "text/plain": [
       "<Figure size 1440x864 with 1 Axes>"
      ]
     },
     "metadata": {
      "needs_background": "light"
     },
     "output_type": "display_data"
    }
   ],
   "source": [
    "#Plot the bending moment.\n",
    "N=len(blade_dat.r)\n",
    "Ty,Tz,My,Mz=np.zeros([len(u),N]),np.zeros([len(u),N]),np.zeros([len(u),N]),np.zeros([len(u),N])\n",
    "for i in range(len(u)):  #Just if more than 1 plot is needed. \n",
    "    Ty[i,],Tz[i,]=shear(pT[i,],pN[i,],blade_dat.r.values)\n",
    "    My[i,],Mz[i,]=bending(Ty[i,],Tz[i,],pT[i,],pN[i,],blade_dat.r.values)\n",
    "    bending_plotter(blade_dat.r.values,Mz[i,],My[i,],u[i])   #change here Mz and My for Tz-Ty for plotting shear.\n",
    "    "
   ]
  },
  {
   "cell_type": "markdown",
   "metadata": {},
   "source": [
    "# Q3 - static deflections"
   ]
  },
  {
   "cell_type": "markdown",
   "metadata": {},
   "source": [
    "#  carga bladestruc"
   ]
  },
  {
   "cell_type": "code",
   "execution_count": 24,
   "metadata": {},
   "outputs": [
    {
     "ename": "FileNotFoundError",
     "evalue": "[Errno 2] No such file or directory: 'bladestruc.txt'",
     "output_type": "error",
     "traceback": [
      "\u001b[1;31m---------------------------------------------------------------------------\u001b[0m",
      "\u001b[1;31mFileNotFoundError\u001b[0m                         Traceback (most recent call last)",
      "\u001b[1;32m<ipython-input-24-4393b2b4668b>\u001b[0m in \u001b[0;36m<module>\u001b[1;34m\u001b[0m\n\u001b[0;32m      2\u001b[0m \u001b[1;31m#mass [kg/m]\u001b[0m\u001b[1;33m\u001b[0m\u001b[1;33m\u001b[0m\u001b[1;33m\u001b[0m\u001b[0m\n\u001b[0;32m      3\u001b[0m \u001b[1;31m#pitch and twist in deg\u001b[0m\u001b[1;33m\u001b[0m\u001b[1;33m\u001b[0m\u001b[1;33m\u001b[0m\u001b[0m\n\u001b[1;32m----> 4\u001b[1;33m \u001b[0mblade_str\u001b[0m\u001b[1;33m=\u001b[0m\u001b[0mpd\u001b[0m\u001b[1;33m.\u001b[0m\u001b[0mread_csv\u001b[0m\u001b[1;33m(\u001b[0m\u001b[1;34m'bladestruc.txt'\u001b[0m\u001b[1;33m,\u001b[0m\u001b[0mnames\u001b[0m\u001b[1;33m=\u001b[0m\u001b[1;33m[\u001b[0m\u001b[1;34m\"r\"\u001b[0m\u001b[1;33m,\u001b[0m\u001b[1;34m\"struc_pitch\"\u001b[0m\u001b[1;33m,\u001b[0m\u001b[1;34m\"mass\"\u001b[0m\u001b[1;33m,\u001b[0m\u001b[1;34m\"EIy\"\u001b[0m\u001b[1;33m,\u001b[0m\u001b[1;34m\"EIz\"\u001b[0m\u001b[1;33m,\u001b[0m\u001b[1;34m\"twist\"\u001b[0m\u001b[1;33m]\u001b[0m\u001b[1;33m,\u001b[0m \u001b[0msep\u001b[0m\u001b[1;33m=\u001b[0m\u001b[1;34m'\\s+'\u001b[0m\u001b[1;33m)\u001b[0m\u001b[1;33m\u001b[0m\u001b[1;33m\u001b[0m\u001b[0m\n\u001b[0m",
      "\u001b[1;32m~\\anaconda3\\lib\\site-packages\\pandas\\io\\parsers.py\u001b[0m in \u001b[0;36mread_csv\u001b[1;34m(filepath_or_buffer, sep, delimiter, header, names, index_col, usecols, squeeze, prefix, mangle_dupe_cols, dtype, engine, converters, true_values, false_values, skipinitialspace, skiprows, skipfooter, nrows, na_values, keep_default_na, na_filter, verbose, skip_blank_lines, parse_dates, infer_datetime_format, keep_date_col, date_parser, dayfirst, cache_dates, iterator, chunksize, compression, thousands, decimal, lineterminator, quotechar, quoting, doublequote, escapechar, comment, encoding, dialect, error_bad_lines, warn_bad_lines, delim_whitespace, low_memory, memory_map, float_precision)\u001b[0m\n\u001b[0;32m    684\u001b[0m     )\n\u001b[0;32m    685\u001b[0m \u001b[1;33m\u001b[0m\u001b[0m\n\u001b[1;32m--> 686\u001b[1;33m     \u001b[1;32mreturn\u001b[0m \u001b[0m_read\u001b[0m\u001b[1;33m(\u001b[0m\u001b[0mfilepath_or_buffer\u001b[0m\u001b[1;33m,\u001b[0m \u001b[0mkwds\u001b[0m\u001b[1;33m)\u001b[0m\u001b[1;33m\u001b[0m\u001b[1;33m\u001b[0m\u001b[0m\n\u001b[0m\u001b[0;32m    687\u001b[0m \u001b[1;33m\u001b[0m\u001b[0m\n\u001b[0;32m    688\u001b[0m \u001b[1;33m\u001b[0m\u001b[0m\n",
      "\u001b[1;32m~\\anaconda3\\lib\\site-packages\\pandas\\io\\parsers.py\u001b[0m in \u001b[0;36m_read\u001b[1;34m(filepath_or_buffer, kwds)\u001b[0m\n\u001b[0;32m    450\u001b[0m \u001b[1;33m\u001b[0m\u001b[0m\n\u001b[0;32m    451\u001b[0m     \u001b[1;31m# Create the parser.\u001b[0m\u001b[1;33m\u001b[0m\u001b[1;33m\u001b[0m\u001b[1;33m\u001b[0m\u001b[0m\n\u001b[1;32m--> 452\u001b[1;33m     \u001b[0mparser\u001b[0m \u001b[1;33m=\u001b[0m \u001b[0mTextFileReader\u001b[0m\u001b[1;33m(\u001b[0m\u001b[0mfp_or_buf\u001b[0m\u001b[1;33m,\u001b[0m \u001b[1;33m**\u001b[0m\u001b[0mkwds\u001b[0m\u001b[1;33m)\u001b[0m\u001b[1;33m\u001b[0m\u001b[1;33m\u001b[0m\u001b[0m\n\u001b[0m\u001b[0;32m    453\u001b[0m \u001b[1;33m\u001b[0m\u001b[0m\n\u001b[0;32m    454\u001b[0m     \u001b[1;32mif\u001b[0m \u001b[0mchunksize\u001b[0m \u001b[1;32mor\u001b[0m \u001b[0miterator\u001b[0m\u001b[1;33m:\u001b[0m\u001b[1;33m\u001b[0m\u001b[1;33m\u001b[0m\u001b[0m\n",
      "\u001b[1;32m~\\anaconda3\\lib\\site-packages\\pandas\\io\\parsers.py\u001b[0m in \u001b[0;36m__init__\u001b[1;34m(self, f, engine, **kwds)\u001b[0m\n\u001b[0;32m    944\u001b[0m             \u001b[0mself\u001b[0m\u001b[1;33m.\u001b[0m\u001b[0moptions\u001b[0m\u001b[1;33m[\u001b[0m\u001b[1;34m\"has_index_names\"\u001b[0m\u001b[1;33m]\u001b[0m \u001b[1;33m=\u001b[0m \u001b[0mkwds\u001b[0m\u001b[1;33m[\u001b[0m\u001b[1;34m\"has_index_names\"\u001b[0m\u001b[1;33m]\u001b[0m\u001b[1;33m\u001b[0m\u001b[1;33m\u001b[0m\u001b[0m\n\u001b[0;32m    945\u001b[0m \u001b[1;33m\u001b[0m\u001b[0m\n\u001b[1;32m--> 946\u001b[1;33m         \u001b[0mself\u001b[0m\u001b[1;33m.\u001b[0m\u001b[0m_make_engine\u001b[0m\u001b[1;33m(\u001b[0m\u001b[0mself\u001b[0m\u001b[1;33m.\u001b[0m\u001b[0mengine\u001b[0m\u001b[1;33m)\u001b[0m\u001b[1;33m\u001b[0m\u001b[1;33m\u001b[0m\u001b[0m\n\u001b[0m\u001b[0;32m    947\u001b[0m \u001b[1;33m\u001b[0m\u001b[0m\n\u001b[0;32m    948\u001b[0m     \u001b[1;32mdef\u001b[0m \u001b[0mclose\u001b[0m\u001b[1;33m(\u001b[0m\u001b[0mself\u001b[0m\u001b[1;33m)\u001b[0m\u001b[1;33m:\u001b[0m\u001b[1;33m\u001b[0m\u001b[1;33m\u001b[0m\u001b[0m\n",
      "\u001b[1;32m~\\anaconda3\\lib\\site-packages\\pandas\\io\\parsers.py\u001b[0m in \u001b[0;36m_make_engine\u001b[1;34m(self, engine)\u001b[0m\n\u001b[0;32m   1176\u001b[0m     \u001b[1;32mdef\u001b[0m \u001b[0m_make_engine\u001b[0m\u001b[1;33m(\u001b[0m\u001b[0mself\u001b[0m\u001b[1;33m,\u001b[0m \u001b[0mengine\u001b[0m\u001b[1;33m=\u001b[0m\u001b[1;34m\"c\"\u001b[0m\u001b[1;33m)\u001b[0m\u001b[1;33m:\u001b[0m\u001b[1;33m\u001b[0m\u001b[1;33m\u001b[0m\u001b[0m\n\u001b[0;32m   1177\u001b[0m         \u001b[1;32mif\u001b[0m \u001b[0mengine\u001b[0m \u001b[1;33m==\u001b[0m \u001b[1;34m\"c\"\u001b[0m\u001b[1;33m:\u001b[0m\u001b[1;33m\u001b[0m\u001b[1;33m\u001b[0m\u001b[0m\n\u001b[1;32m-> 1178\u001b[1;33m             \u001b[0mself\u001b[0m\u001b[1;33m.\u001b[0m\u001b[0m_engine\u001b[0m \u001b[1;33m=\u001b[0m \u001b[0mCParserWrapper\u001b[0m\u001b[1;33m(\u001b[0m\u001b[0mself\u001b[0m\u001b[1;33m.\u001b[0m\u001b[0mf\u001b[0m\u001b[1;33m,\u001b[0m \u001b[1;33m**\u001b[0m\u001b[0mself\u001b[0m\u001b[1;33m.\u001b[0m\u001b[0moptions\u001b[0m\u001b[1;33m)\u001b[0m\u001b[1;33m\u001b[0m\u001b[1;33m\u001b[0m\u001b[0m\n\u001b[0m\u001b[0;32m   1179\u001b[0m         \u001b[1;32melse\u001b[0m\u001b[1;33m:\u001b[0m\u001b[1;33m\u001b[0m\u001b[1;33m\u001b[0m\u001b[0m\n\u001b[0;32m   1180\u001b[0m             \u001b[1;32mif\u001b[0m \u001b[0mengine\u001b[0m \u001b[1;33m==\u001b[0m \u001b[1;34m\"python\"\u001b[0m\u001b[1;33m:\u001b[0m\u001b[1;33m\u001b[0m\u001b[1;33m\u001b[0m\u001b[0m\n",
      "\u001b[1;32m~\\anaconda3\\lib\\site-packages\\pandas\\io\\parsers.py\u001b[0m in \u001b[0;36m__init__\u001b[1;34m(self, src, **kwds)\u001b[0m\n\u001b[0;32m   2006\u001b[0m         \u001b[0mkwds\u001b[0m\u001b[1;33m[\u001b[0m\u001b[1;34m\"usecols\"\u001b[0m\u001b[1;33m]\u001b[0m \u001b[1;33m=\u001b[0m \u001b[0mself\u001b[0m\u001b[1;33m.\u001b[0m\u001b[0musecols\u001b[0m\u001b[1;33m\u001b[0m\u001b[1;33m\u001b[0m\u001b[0m\n\u001b[0;32m   2007\u001b[0m \u001b[1;33m\u001b[0m\u001b[0m\n\u001b[1;32m-> 2008\u001b[1;33m         \u001b[0mself\u001b[0m\u001b[1;33m.\u001b[0m\u001b[0m_reader\u001b[0m \u001b[1;33m=\u001b[0m \u001b[0mparsers\u001b[0m\u001b[1;33m.\u001b[0m\u001b[0mTextReader\u001b[0m\u001b[1;33m(\u001b[0m\u001b[0msrc\u001b[0m\u001b[1;33m,\u001b[0m \u001b[1;33m**\u001b[0m\u001b[0mkwds\u001b[0m\u001b[1;33m)\u001b[0m\u001b[1;33m\u001b[0m\u001b[1;33m\u001b[0m\u001b[0m\n\u001b[0m\u001b[0;32m   2009\u001b[0m         \u001b[0mself\u001b[0m\u001b[1;33m.\u001b[0m\u001b[0munnamed_cols\u001b[0m \u001b[1;33m=\u001b[0m \u001b[0mself\u001b[0m\u001b[1;33m.\u001b[0m\u001b[0m_reader\u001b[0m\u001b[1;33m.\u001b[0m\u001b[0munnamed_cols\u001b[0m\u001b[1;33m\u001b[0m\u001b[1;33m\u001b[0m\u001b[0m\n\u001b[0;32m   2010\u001b[0m \u001b[1;33m\u001b[0m\u001b[0m\n",
      "\u001b[1;32mpandas\\_libs\\parsers.pyx\u001b[0m in \u001b[0;36mpandas._libs.parsers.TextReader.__cinit__\u001b[1;34m()\u001b[0m\n",
      "\u001b[1;32mpandas\\_libs\\parsers.pyx\u001b[0m in \u001b[0;36mpandas._libs.parsers.TextReader._setup_parser_source\u001b[1;34m()\u001b[0m\n",
      "\u001b[1;31mFileNotFoundError\u001b[0m: [Errno 2] No such file or directory: 'bladestruc.txt'"
     ]
    }
   ],
   "source": [
    "#EI [Nm^2]\n",
    "#mass [kg/m]\n",
    "#pitch and twist in deg\n",
    "blade_str=pd.read_csv('bladestruc.txt',names=[\"r\",\"struc_pitch\",\"mass\",\"EIy\",\"EIz\",\"twist\"], sep='\\s+')"
   ]
  },
  {
   "cell_type": "code",
   "execution_count": null,
   "metadata": {},
   "outputs": [],
   "source": [
    "np.arange(0,1.01,0.01)"
   ]
  },
  {
   "cell_type": "code",
   "execution_count": null,
   "metadata": {},
   "outputs": [],
   "source": [
    "#convert beta to rad?\n",
    "def deflector(My,Mz,EIy,EIz,beta,pitch,r):\n",
    "    EI1,EI2=np.ones(101),np.ones(101)             #EIy,EIz\n",
    "    pitch=np.zeros(101)                 #np.deg2rad(pitch)\n",
    "    beta=np.zeros(101)                               #np.deg2rad(beta)\n",
    "    N=len(r)\n",
    "    #M1,M2=np.zeros(N),np.zeros(N)\n",
    "    #k1,k2=np.zeros(N),np.zeros(N)\n",
    "    #for i in range(N):\n",
    "        #M1[i]=My[i]*m.cos(beta[i]+pitch[i])-Mz[i]*m.sin(beta[i]+pitch[i])\n",
    "        #M2[i]=Mz[i]*m.sin(beta[i]+pitch[i])+Mz[i]*m.cos(beta[i]+pitch[i])\n",
    "    M1=My*np.cos(beta+pitch)-Mz*np.sin(beta+pitch)\n",
    "    M2=My*np.sin(beta+pitch)+Mz*np.cos(beta+pitch)\n",
    "    k1,k2=M1/EI1,M2/EI2\n",
    "    kz=-k1*np.sin(beta+pitch)+k2*np.cos(beta+pitch)\n",
    "    ky=k1*np.cos(beta+pitch)+k2*np.sin(beta+pitch)\n",
    "    \n",
    "    Thetay,Thetaz=np.zeros(N),np.zeros(N)\n",
    "    #BC:thetay[1]=0,thetaz[1]=0\n",
    "    for i in range(N-1):\n",
    "        Thetay[i+1]=Thetay[i]+0.5*(ky[i+1]+ky[i])*(r[i+1]-r[i])\n",
    "        Thetaz[i+1]=Thetaz[i]+0.5*(kz[i+1]+kz[i])*(r[i+1]-r[i])\n",
    "    #BC:uy[1]=0,uz[1]=0\n",
    "    uy,uz=np.zeros(N),np.zeros(N)\n",
    "    for i in range(N-1): \n",
    "        uy[i+1]=uy[i]+Thetaz[i]*(r[i+1]-r[i])+(1/6*kz[i+1]+1/3*kz[i])*(r[i+1]-r[i])**2\n",
    "        uz[i+1]=uz[i]-Thetay[i]*(r[i+1]-r[i])-(1/6*ky[i+1]+1/3*ky[i])*(r[i+1]-r[i])**2\n",
    "    \n",
    "    return uy,uz\n",
    "        \n",
    "        \n",
    "        "
   ]
  },
  {
   "cell_type": "code",
   "execution_count": null,
   "metadata": {},
   "outputs": [],
   "source": [
    "uy=np.zeros([len(u),len(blade_dat.r)])\n",
    "uz=np.zeros([len(u),len(blade_dat.r)])\n",
    "for i in range(len(u)):\n",
    "    r=blade_dat.r.values\n",
    "    uy[i,],uz[i,]=deflector(My[i,],Mz[i,],blade_str.EIy.values,blade_str.EIz.values,blade_str.twist.values,blade_str.struc_pitch.values,r)\n",
    "    deflection_plotter(r,uy[i,],uz[i,],u[i])\n",
    "    "
   ]
  },
  {
   "cell_type": "code",
   "execution_count": null,
   "metadata": {},
   "outputs": [],
   "source": [
    "uz[1,]"
   ]
  },
  {
   "cell_type": "markdown",
   "metadata": {},
   "source": [
    "#### Why less deflection at high wind speeds?\n",
    "BC of deloading the blade, and when you pitch the blade it can bend less in streamwise dir."
   ]
  },
  {
   "cell_type": "markdown",
   "metadata": {},
   "source": [
    "# Eigenvalues"
   ]
  },
  {
   "cell_type": "code",
   "execution_count": null,
   "metadata": {},
   "outputs": [],
   "source": [
    "def deflect(pT,pN):\n",
    "    r=np.arange(0,1.01,0.01)\n",
    "    Ty,Tz=shear(pT,pN,r)\n",
    "    My,Mz=bending(Ty,Tz,pT,pN,r)\n",
    "    #bending_plotter(blade_dat.r.values,Mz,My,u) #needs u.....\n",
    "    uy,uz=deflector(My,Mz,blade_str.EIy.values,blade_str.EIz.values,blade_str.twist.values,blade_str.struc_pitch.values,r)\n",
    "    #deflection_plotter(r,uy,uz,\"NA\")\n",
    "    return uy,uz\n"
   ]
  },
  {
   "cell_type": "code",
   "execution_count": null,
   "metadata": {},
   "outputs": [],
   "source": [
    "#stiffness matrix\n",
    "def stiff():\n",
    "    \"\"\"Compute the stiffnes matrix with dimension 2*N-2 , where N=len(blade_dar.r)\"\"\"\n",
    "    N=101          #len(blade_dat.r.values)\n",
    "    M=2*N-2\n",
    "    pN=np.zeros(N)\n",
    "    pT=np.zeros(N)\n",
    "    a=np.zeros([M,M])\n",
    "    j=0\n",
    "    for i in range(len(blade_str.r)-1):\n",
    "        pT[i+1]=1\n",
    "        uy,uz=deflect(pT,pN)\n",
    "        a[:,j]=np.append(uy[1:],uz[1:])\n",
    "#         if i==0:\n",
    "#             print(a[:,j])\n",
    "#             print(a[:,j].shape)\n",
    "        pT[i+1]=0\n",
    "        pN[i+1]=1\n",
    "        uy,uz=deflect(pT,pN)\n",
    "        a[:,j+1]=np.append(uy[1:],uz[1:])\n",
    "        pN[i+1]=0\n",
    "        j+=2\n",
    "    F=np.zeros([M,M])\n",
    "    for i in range(M):\n",
    "        j=0\n",
    "        for k in range(N-1):\n",
    "            F[j,i]=a[k,i]\n",
    "            F[j+1,i]=a[N-1+k,i]\n",
    "            j+=2\n",
    "    return F\n",
    "     \n",
    "    "
   ]
  },
  {
   "cell_type": "code",
   "execution_count": null,
   "metadata": {},
   "outputs": [],
   "source": [
    "Fconst=stiff()\n",
    "Fconst"
   ]
  },
  {
   "cell_type": "code",
   "execution_count": null,
   "metadata": {},
   "outputs": [],
   "source": [
    "F=stiff()\n",
    "F"
   ]
  },
  {
   "cell_type": "markdown",
   "metadata": {},
   "source": [
    "## testing correct F? "
   ]
  },
  {
   "cell_type": "code",
   "execution_count": null,
   "metadata": {},
   "outputs": [],
   "source": [
    "#loads for u=10\n",
    "PTN2=np.zeros(2*int(len(pT[2,])-1))\n",
    "j=0\n",
    "for k in range(1,len(pT[2,])):\n",
    "    PTN2[j]=pT[2,k]\n",
    "    PTN2[j+1]=pN[2,k]\n",
    "    j+=2\n",
    "UTN2=np.zeros(2*int(len(uy[2,])-1))\n",
    "j=0\n",
    "for k in range(1,len(uy[2,])):\n",
    "    UTN2[j]=uy[2,k]\n",
    "    UTN2[j+1]=uz[2,k]\n",
    "    j+=2"
   ]
  },
  {
   "cell_type": "code",
   "execution_count": null,
   "metadata": {},
   "outputs": [],
   "source": [
    "F.dot(PTN2.T)"
   ]
  },
  {
   "cell_type": "code",
   "execution_count": null,
   "metadata": {},
   "outputs": [],
   "source": [
    "uz[2,]"
   ]
  },
  {
   "cell_type": "code",
   "execution_count": null,
   "metadata": {},
   "outputs": [],
   "source": [
    "uy[2,]"
   ]
  },
  {
   "cell_type": "code",
   "execution_count": null,
   "metadata": {},
   "outputs": [],
   "source": [
    "np.ones(101)"
   ]
  },
  {
   "cell_type": "code",
   "execution_count": null,
   "metadata": {},
   "outputs": [],
   "source": [
    "# mass matrix\n",
    "M=np.zeros(2*len(np.ones(101))-2)\n",
    "j=0\n",
    "for i in np.ones(101)[1:]:\n",
    "    M[j]=i\n",
    "    M[j+1]=i\n",
    "    j+=2"
   ]
  },
  {
   "cell_type": "code",
   "execution_count": null,
   "metadata": {},
   "outputs": [],
   "source": [
    "M=np.diag(M)"
   ]
  },
  {
   "cell_type": "code",
   "execution_count": null,
   "metadata": {},
   "outputs": [],
   "source": [
    "M"
   ]
  },
  {
   "cell_type": "code",
   "execution_count": null,
   "metadata": {},
   "outputs": [],
   "source": [
    "M.shape"
   ]
  },
  {
   "cell_type": "code",
   "execution_count": null,
   "metadata": {},
   "outputs": [],
   "source": [
    "eigvals,eigvecs=np.linalg.eig(np.dot(Fconst,M))"
   ]
  },
  {
   "cell_type": "code",
   "execution_count": null,
   "metadata": {},
   "outputs": [],
   "source": [
    "eigvecs"
   ]
  },
  {
   "cell_type": "code",
   "execution_count": null,
   "metadata": {},
   "outputs": [],
   "source": [
    "nmode=3\n",
    "r=np.arange(0,1.01,0.01)\n",
    "ymodes=np.zeros([len(r)-1,nmode])\n",
    "zmodes=np.zeros([len(r)-1,nmode])\n",
    "for j in range(nmode):\n",
    "    #decoupling of eigenvectors\n",
    "    ymodes[:,j]=eigvecs[np.arange(0,(len(r)-1)*2,2),j]\n",
    "    zmodes[:,j]=eigvecs[np.arange(1,(len(r)-1)*2,2),j]\n",
    "\n",
    "    if max(abs(ymodes[:,j]))>max(abs(zmodes[:,j])):\n",
    "        standard=max(abs(ymodes[:,j]))\n",
    "    else:\n",
    "        standard=max(abs(zmodes[:,j]))\n",
    "    eigen_plotter(r[1:]/R,ymodes[:,j]/standard,zmodes[:,j]/standard,np.sqrt(1/eigvals[2*j]),np.sqrt(1/eigvals[2*j+1]))"
   ]
  },
  {
   "cell_type": "markdown",
   "metadata": {},
   "source": [
    "## Plots in bigger cells"
   ]
  },
  {
   "cell_type": "code",
   "execution_count": null,
   "metadata": {},
   "outputs": [],
   "source": [
    "eigen_plotter(r[1:]/R,ymodes[:,0]/max(abs(zmodes[:,0])),zmodes[:,0]/max(abs(zmodes[:,0])),np.sqrt(1/eigvals[2*0]),np.sqrt(1/eigvals[2*0+1]))"
   ]
  },
  {
   "cell_type": "code",
   "execution_count": null,
   "metadata": {},
   "outputs": [],
   "source": [
    "eigen_plotter(r[1:]/R,ymodes[:,1]/max(abs(ymodes[:,1])),zmodes[:,1]/max(abs(ymodes[:,1])),np.sqrt(1/eigvals[2*1]),np.sqrt(1/eigvals[2*1+1]))"
   ]
  },
  {
   "cell_type": "code",
   "execution_count": null,
   "metadata": {},
   "outputs": [],
   "source": [
    "eigen_plotter(r[1:]/R,ymodes[:,2]/max(abs(zmodes[:,2])),zmodes[:,2]/max(abs(zmodes[:,2])),np.sqrt(1/eigvals[2*2]),np.sqrt(1/eigvals[2*2+1]))"
   ]
  },
  {
   "cell_type": "code",
   "execution_count": null,
   "metadata": {},
   "outputs": [],
   "source": [
    "zmodes[:,1]"
   ]
  },
  {
   "cell_type": "code",
   "execution_count": null,
   "metadata": {},
   "outputs": [],
   "source": [
    "deflector(My,Mz,EIy,EIz,beta,pitch,r)"
   ]
  }
 ],
 "metadata": {
  "hide_input": false,
  "kernelspec": {
   "display_name": "Python 3",
   "language": "python",
   "name": "python3"
  },
  "language_info": {
   "codemirror_mode": {
    "name": "ipython",
    "version": 3
   },
   "file_extension": ".py",
   "mimetype": "text/x-python",
   "name": "python",
   "nbconvert_exporter": "python",
   "pygments_lexer": "ipython3",
   "version": "3.7.6"
  }
 },
 "nbformat": 4,
 "nbformat_minor": 2
}
