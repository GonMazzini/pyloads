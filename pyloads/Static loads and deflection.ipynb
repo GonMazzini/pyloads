{
 "cells": [
  {
   "cell_type": "code",
   "execution_count": 1,
   "metadata": {},
   "outputs": [],
   "source": [
    "import numpy as np\n",
    "import pandas as pd\n",
    "import math as m\n",
    "from scipy.optimize import fsolve\n",
    "import matplotlib.pyplot as plt \n",
    "import warnings"
   ]
  },
  {
   "cell_type": "code",
   "execution_count": 41,
   "metadata": {},
   "outputs": [
    {
     "data": {
      "image/png": "[encoded data removed]",
      "text/plain": [
       "<Figure size 432x288 with 1 Axes>"
      ]
     },
     "metadata": {
      "needs_background": "light"
     },
     "output_type": "display_data"
    }
   ],
   "source": [
    "import numpy as np\n",
    "import matplotlib.pyplot as plt\n",
    "\n",
    "V = np.array([[1,1], [-2,2], [4,-7]])\n",
    "origin = np.array([[0, 0, 0],[0, 0, 0]]) # origin point\n",
    "\n",
    "plt.quiver(*origin, V[:,0], V[:,1], color=['r','b','g'], scale=21)\n",
    "plt.show()"
   ]
  },
  {
   "cell_type": "markdown",
   "metadata": {},
   "source": [
    "## Usefull func"
   ]
  },
  {
   "cell_type": "code",
   "execution_count": 2,
   "metadata": {},
   "outputs": [],
   "source": [
    "def power_plotter(u,P):\n",
    "  \"\"\"Plot the power curve for a given array of wind speeds.\"\"\"\n",
    "  plt.figure(figsize=[20,12])\n",
    "  plt.plot(u,P,'--x')\n",
    "  plt.ylabel('P [MW]',fontsize=20)\n",
    "  plt.xlabel('V [m/s]',fontsize=20)\n",
    "  plt.xticks(fontsize=15)\n",
    "  plt.yticks(fontsize=15)\n",
    "  plt.grid()\n",
    "  #plt.savefig(\"Q3_pow.jpg\")\n",
    "  #files.download(\"Q3_pow.jpg\") \n",
    "  plt.show()\n",
    "def thrust_plotter(u,T):\n",
    "  \"\"\"Plot the thrust curve for a given array of wind speeds.\"\"\"\n",
    "  plt.figure(figsize=[20,12])\n",
    "  plt.plot(u,T,'--x')\n",
    "  plt.ylabel('T [kN]',fontsize=20)\n",
    "  plt.xlabel('V [m/s]',fontsize=20)\n",
    "  plt.xticks(fontsize=15)\n",
    "  plt.yticks(fontsize=15)\n",
    "  plt.grid()\n",
    "  #plt.savefig(\"Q3_thr.jpg\")\n",
    "  #files.download(\"Q3_thr.jpg\") \n",
    "  plt.show()\n",
    "def bending_plotter(r,Mz,My,u):\n",
    "  \"\"\"Plot the bendins moment in axe z (vertial) and ax y\"\"\"\n",
    "  plt.figure(figsize=[20,12])\n",
    "  plt.title(r\"$v_0$=\"+str(u)+\" [m/s]\",fontsize=20)\n",
    "  plt.plot(r,Mz/10**6,label=r\"$M_z$\")\n",
    "  plt.plot(r,My/10**6,label=r\"$M_y$\")\n",
    "  plt.ylabel('Mbend [MNm]',fontsize=20)\n",
    "  plt.xlabel('r [m]',fontsize=20)\n",
    "  plt.legend(fontsize=20)\n",
    "  plt.xticks(fontsize=15)\n",
    "  plt.yticks(fontsize=15)\n",
    "  plt.grid()\n",
    "  #plt.savefig(\"Q3_thr.jpg\")\n",
    "  #files.download(\"Q3_thr.jpg\") \n",
    "  plt.show()\n",
    "def deflection_plotter(r,uy,uz,u):\n",
    "  \"\"\"Plot the deflection in axe z and y\"\"\"\n",
    "  plt.figure(figsize=[20,12])\n",
    "  plt.title(r\"$v_0$=\"+str(u)+\" [m/s]\",fontsize=20)\n",
    "  plt.plot(r,uy,label=r\"$u_y$\")\n",
    "  plt.plot(r,uz,label=r\"$u_z$\")\n",
    "  plt.ylabel('u(x) [m]',fontsize=20)\n",
    "  plt.xlabel('r [m]',fontsize=20)\n",
    "  plt.legend(fontsize=20)\n",
    "  plt.xticks(fontsize=15)\n",
    "  plt.yticks(fontsize=15)\n",
    "  plt.grid()\n",
    "  #plt.savefig(\"Q3_thr.jpg\")\n",
    "  #files.download(\"Q3_thr.jpg\") \n",
    "  plt.show()\n",
    "def eigen_plotter(r,ymode,zmode,w1,w2):\n",
    "    plt.figure(figsize=[20,12])\n",
    "    plt.title(r\"$\\omega_y$=\"+str(w1)+\" $\\omega_z$=\"+str(w2)+\" [rad/s]\",fontsize=20)\n",
    "    plt.plot(r,ymode,label=r\"$u_y$\")\n",
    "    plt.plot(r,zmode,label=r\"$u_z$\")\n",
    "    plt.ylabel(r'$u/$abs($u$)$_{max}$',fontsize=20)\n",
    "    plt.xlabel('r/R',fontsize=20)\n",
    "    plt.legend(fontsize=20)\n",
    "    plt.xticks(fontsize=15)\n",
    "    plt.yticks(fontsize=15)\n",
    "    plt.grid()\n",
    "    #plt.savefig(\"Q3_thr.jpg\")\n",
    "    #files.download(\"Q3_thr.jpg\") \n",
    "    plt.show()"
   ]
  },
  {
   "cell_type": "code",
   "execution_count": 3,
   "metadata": {},
   "outputs": [],
   "source": [
    "def integrate(Y,r):\n",
    "  \"\"\"Used for calculation of power\"\"\"\n",
    "#PASSA viddir a loads og r [m]\n",
    "  M=0 #dummy assignment before loop\n",
    "  for k in range(len(Y)-1):\n",
    "    A_k=(Y[k+1]-Y[k])/(r[k+1]-r[k])\n",
    "    B_k=(Y[k]*r[k+1]-Y[k+1]*r[k])/(r[k+1]-r[k])\n",
    "    M+=1/3*A_k*((r[k+1])**3-(r[k])**3)+0.5*B_k*((r[k+1])**2-(r[k])**2)\n",
    "  return M"
   ]
  },
  {
   "cell_type": "code",
   "execution_count": 4,
   "metadata": {},
   "outputs": [],
   "source": [
    "def thruster(pN,r):\n",
    "  #[r] m\n",
    "  T = 0\n",
    "  for i in range(len(pN) - 1):\n",
    "      T += (pN[i + 1] + pN[i]) * 0.5 * (r[i + 1] - r[i])\n",
    "  return T * B"
   ]
  },
  {
   "cell_type": "code",
   "execution_count": 5,
   "metadata": {},
   "outputs": [],
   "source": [
    "def polar(alpha):\n",
    "    \"\"\"\n",
    "    param alpha: Angle of attack [deg]\n",
    "    return cl: Lift coefficient [-]\n",
    "    return cd: Drag coefficient [-] \"\"\"\n",
    "    idx = af_data.iloc[(af_data['alpha'] - alpha).abs().argsort()[:2]]\n",
    "    gradcl = (idx.cl.iloc[1] - idx.cl.iloc[0]) / (idx.alpha.iloc[1] - idx.alpha.iloc[0])\n",
    "    gradcd = (idx.cd.iloc[1] - idx.cd.iloc[0]) / (idx.alpha.iloc[1] - idx.alpha.iloc[0])\n",
    "    cl = gradcl * (alpha - idx.alpha.iloc[0]) + idx.cl.iloc[0]\n",
    "    cd = gradcd * (alpha - idx.alpha.iloc[0]) + idx.cd.iloc[0]\n",
    "    return cl, cd"
   ]
  },
  {
   "cell_type": "markdown",
   "metadata": {},
   "source": [
    "# Bem code with double interpolation"
   ]
  },
  {
   "cell_type": "code",
   "execution_count": 6,
   "metadata": {},
   "outputs": [],
   "source": [
    "def Glauert_eq(x,sigma,F,phi,Cn):\n",
    "    return [x[0]-((1-x[1])**2*sigma*Cn)/(m.sin(phi)**2), x[0]-4*x[1]*(1-0.25*(5-3*x[1])*x[1])*F]"
   ]
  },
  {
   "cell_type": "code",
   "execution_count": 7,
   "metadata": {},
   "outputs": [],
   "source": [
    "#v=[v_rel,v0]\n",
    "def Vrel_eq(v,phi,TSR,a,aa):\n",
    "  return [v[0]*m.sin(phi)-v[1]*(1-a),v[0]*m.cos(phi)-TSR*v[1]*(1+aa)]"
   ]
  },
  {
   "cell_type": "code",
   "execution_count": 32,
   "metadata": {},
   "outputs": [],
   "source": [
    "#R is a global \n",
    "#rho is a global\n",
    "#double_interp func assumes af_dat to be global\n",
    "\n",
    "def normal_tangential_loads(TSR,v_0,theta,r,c,t_c,a=0.2,aa=0.2,i=0,imax=100):\n",
    "  tol_a,tol_aa=10,10\n",
    "  sigma=(c*B)/(2*m.pi*r)\n",
    "\n",
    "  while tol_a>10**(-3) and tol_aa>10**(-3) and i<imax:\n",
    "    a0,aa0=a,aa\n",
    "    phi=m.atan(((1-a)*R)/((1+aa)*TSR*r))\n",
    "    alpha=np.rad2deg(phi)-theta\n",
    "    Cl,Cd=Double_interpol(alpha,t_c)\n",
    "    Cn=Cl*m.cos(phi)+Cd*m.sin(phi)\n",
    "    Ct=Cl*m.sin(phi)-Cd*m.cos(phi)\n",
    "    F=(2/m.pi)*m.acos(m.exp(-(B/2)*(R-r)/(r*m.sin(abs(phi)))))\n",
    "\n",
    "    #update a\n",
    "    if a<=1/3:\n",
    "      a=1/(((4*F*m.sin(phi)**2)/(sigma*Cn))+1)\n",
    "    #glauert correction\n",
    "    else:\n",
    "      #solving for CT and a iteratively using the fsolve function\n",
    "      #[1,a] is the initial guess, that is C_T=1 and a_n=a_(n-1)\n",
    "      #args=(sigma,F,phi,Cn) are the known input parameters for solving C_T and a\n",
    "      #returns the solution vector x where C_T=x[0] and a=x[1]\n",
    "      print(a)  \n",
    "      CT,a=fsolve(Glauert_eq, [1, a],args=(sigma,F,phi,Cn))\n",
    "      print(f'CT glauert= {CT}, and a = {a}')\n",
    "\n",
    "      #beta = 0.05\n",
    "      #CT = (1 - a)**2 * sigma * Cn / m.sin(phi)**2\n",
    "      #aa_star = CT / (4 * F * (1 - 0.25 * (5 - 3 * a) * a))\n",
    "      #aa = beta * aa_star + (1 - beta) * a\n",
    "\n",
    "    #Update a'\n",
    "    aa=1/(((4*F*m.sin(phi)*m.cos(phi))/(sigma*Ct))-1)\n",
    "\n",
    "    #print(alpha)           \n",
    "    tol_a,tol_aa=abs(a-a0),abs(aa-aa0)\n",
    "    i+=1\n",
    "\n",
    "  #Vrel\n",
    "  print(v_0)\n",
    "  #print(phi)\n",
    "  print(a)\n",
    "  v_rel=(v_0/m.sin(phi))*(1-a)\n",
    "\n",
    "\n",
    "  #Local loads\n",
    "  pT=0.5*Ct*rho*(v_rel**2)*c\n",
    "  pN=0.5*Cn*rho*(v_rel**2)*c\n",
    "\n",
    "  if i==imax:\n",
    "    print('NON CONVERGENCE')\n",
    "    \n",
    "  return pT,pN\n"
   ]
  },
  {
   "cell_type": "code",
   "execution_count": 9,
   "metadata": {},
   "outputs": [],
   "source": [
    "def power(TSR,u,theta,r,c,t_c):\n",
    "  pT=np.zeros(len(r))\n",
    "  pN=np.zeros(len(r))\n",
    "  for i in range(len(r)):\n",
    "    try:\n",
    "#         if i != 0 and i!= 1:\n",
    "#             pass\n",
    "#         else:\n",
    "#             print(f'tsr={TSR}. u={u}, theta={theta[i]}, r={r[i]}, c={c[i]}, t_c={t_c[i]}')  \n",
    "        pT[i],pN[i]=normal_tangential_loads(TSR,u,theta[i],r[i],c[i],t_c[i])\n",
    "    except TypeError:\n",
    "        pT[i],pN[i]=np.nan,np.nan\n",
    "  #append and assign values at r=R\n",
    "  r=np.append(r,R)\n",
    "  pT=np.append(pT,0)\n",
    "  pN=np.append(pN,0)\n",
    "  w=TSR*u/R\n",
    "  P=integrate(pT,r)*B*w\n",
    "  T=thruster(pN,r)\n",
    "  return P,T,pT,pN"
   ]
  },
  {
   "cell_type": "code",
   "execution_count": 10,
   "metadata": {},
   "outputs": [],
   "source": [
    "#Assumes af_dat to be global\n",
    "def Double_interpol(alpha,t_c):\n",
    "    cyl,Cl_vec,Cd_vec=np.zeros(len(af_dat)),np.zeros(len(af_dat)),np.zeros(len(af_dat))    \n",
    "    j=0\n",
    "    for key in af_dat:     \n",
    "        df=af_dat[key]\n",
    "        Cl_vec[j]=np.interp(alpha,df.alpha.to_numpy(), df.cl.to_numpy())\n",
    "        Cd_vec[j]=np.interp(alpha,df.alpha.to_numpy(), df.cd.to_numpy())\n",
    "        cyl[j]=key/10\n",
    "        j+=1\n",
    "    Cl=np.interp(t_c,cyl,Cl_vec)\n",
    "    Cd=np.interp(t_c,cyl,Cd_vec)\n",
    "    \n",
    "    #print(f'alpha:{alpha}, t_c={t_c}')\n",
    "    #print(f'Cd= {Cd} \\t Cl= {Cl}')\n",
    "    return Cl,Cd\n",
    "\n",
    "# Double_interpol(alpha=2, t_c=2.41)"
   ]
  },
  {
   "cell_type": "markdown",
   "metadata": {},
   "source": [
    "## DTU 10 MW ref WT normal_tangential_loads exercise"
   ]
  },
  {
   "cell_type": "code",
   "execution_count": 11,
   "metadata": {},
   "outputs": [
    {
     "data": {
      "text/html": [
       "<div>\n",
       "<style scoped>\n",
       "    .dataframe tbody tr th:only-of-type {\n",
       "        vertical-align: middle;\n",
       "    }\n",
       "\n",
       "    .dataframe tbody tr th {\n",
       "        vertical-align: top;\n",
       "    }\n",
       "\n",
       "    .dataframe thead th {\n",
       "        text-align: right;\n",
       "    }\n",
       "</style>\n",
       "<table border=\"1\" class=\"dataframe\">\n",
       "  <thead>\n",
       "    <tr style=\"text-align: right;\">\n",
       "      <th></th>\n",
       "      <th>r</th>\n",
       "      <th>beta</th>\n",
       "      <th>c</th>\n",
       "      <th>t_c</th>\n",
       "    </tr>\n",
       "  </thead>\n",
       "  <tbody>\n",
       "    <tr>\n",
       "      <th>0</th>\n",
       "      <td>2.8</td>\n",
       "      <td>14.5</td>\n",
       "      <td>5.38</td>\n",
       "      <td>100.0</td>\n",
       "    </tr>\n",
       "  </tbody>\n",
       "</table>\n",
       "</div>"
      ],
      "text/plain": [
       "     r  beta     c    t_c\n",
       "0  2.8  14.5  5.38  100.0"
      ]
     },
     "execution_count": 11,
     "metadata": {},
     "output_type": "execute_result"
    }
   ],
   "source": [
    "blade_dat=pd.read_csv('bladedat.txt',sep='\\t',names=['r','beta','c','t_c'])\n",
    "\n",
    "blade_dat.head(1)"
   ]
  },
  {
   "cell_type": "code",
   "execution_count": 12,
   "metadata": {},
   "outputs": [],
   "source": [
    "af_dat={}\n",
    "for i in [241,301,360,480,600]:\n",
    "    af_dat[i]=pd.read_csv('FFA-W3-'+str(i)+'.txt',sep='\\t',names=['alpha','cl','cd','cm'])\n",
    "af_dat[1000]=pd.read_csv('cylinder.txt',sep='\\t',names=['alpha','cl','cd','cm'])\n"
   ]
  },
  {
   "cell_type": "code",
   "execution_count": 13,
   "metadata": {},
   "outputs": [
    {
     "name": "stdout",
     "output_type": "stream",
     "text": [
      "241\n",
      "301\n",
      "360\n",
      "480\n",
      "600\n",
      "1000\n"
     ]
    }
   ],
   "source": [
    "for key in af_dat:\n",
    "    print(key)"
   ]
  },
  {
   "cell_type": "code",
   "execution_count": 14,
   "metadata": {},
   "outputs": [],
   "source": [
    "WT_data=pd.read_csv('operation.txt', sep='\\s+')\n",
    "\n",
    "WT_data.index=WT_data.u    #Should drop u column ?"
   ]
  },
  {
   "cell_type": "code",
   "execution_count": 25,
   "metadata": {},
   "outputs": [
    {
     "data": {
      "text/html": [
       "<div>\n",
       "<style scoped>\n",
       "    .dataframe tbody tr th:only-of-type {\n",
       "        vertical-align: middle;\n",
       "    }\n",
       "\n",
       "    .dataframe tbody tr th {\n",
       "        vertical-align: top;\n",
       "    }\n",
       "\n",
       "    .dataframe thead th {\n",
       "        text-align: right;\n",
       "    }\n",
       "</style>\n",
       "<table border=\"1\" class=\"dataframe\">\n",
       "  <thead>\n",
       "    <tr style=\"text-align: right;\">\n",
       "      <th></th>\n",
       "      <th>r</th>\n",
       "      <th>beta</th>\n",
       "      <th>c</th>\n",
       "      <th>t_c</th>\n",
       "    </tr>\n",
       "  </thead>\n",
       "  <tbody>\n",
       "    <tr>\n",
       "      <th>0</th>\n",
       "      <td>2.800000</td>\n",
       "      <td>14.500000</td>\n",
       "      <td>5.380000</td>\n",
       "      <td>100.000000</td>\n",
       "    </tr>\n",
       "    <tr>\n",
       "      <th>1</th>\n",
       "      <td>11.002738</td>\n",
       "      <td>14.432009</td>\n",
       "      <td>5.452480</td>\n",
       "      <td>86.049148</td>\n",
       "    </tr>\n",
       "    <tr>\n",
       "      <th>2</th>\n",
       "      <td>16.871021</td>\n",
       "      <td>12.545974</td>\n",
       "      <td>5.866004</td>\n",
       "      <td>61.096958</td>\n",
       "    </tr>\n",
       "    <tr>\n",
       "      <th>3</th>\n",
       "      <td>22.964123</td>\n",
       "      <td>8.892452</td>\n",
       "      <td>6.184511</td>\n",
       "      <td>43.035645</td>\n",
       "    </tr>\n",
       "    <tr>\n",
       "      <th>4</th>\n",
       "      <td>32.307638</td>\n",
       "      <td>6.382198</td>\n",
       "      <td>6.019962</td>\n",
       "      <td>32.415053</td>\n",
       "    </tr>\n",
       "    <tr>\n",
       "      <th>5</th>\n",
       "      <td>41.573020</td>\n",
       "      <td>4.673576</td>\n",
       "      <td>5.421891</td>\n",
       "      <td>27.810348</td>\n",
       "    </tr>\n",
       "    <tr>\n",
       "      <th>6</th>\n",
       "      <td>50.411062</td>\n",
       "      <td>2.886552</td>\n",
       "      <td>4.698220</td>\n",
       "      <td>25.317976</td>\n",
       "    </tr>\n",
       "    <tr>\n",
       "      <th>7</th>\n",
       "      <td>58.534435</td>\n",
       "      <td>1.207190</td>\n",
       "      <td>3.998680</td>\n",
       "      <td>24.264420</td>\n",
       "    </tr>\n",
       "    <tr>\n",
       "      <th>8</th>\n",
       "      <td>65.750095</td>\n",
       "      <td>-0.130380</td>\n",
       "      <td>3.398094</td>\n",
       "      <td>24.100682</td>\n",
       "    </tr>\n",
       "    <tr>\n",
       "      <th>9</th>\n",
       "      <td>71.967492</td>\n",
       "      <td>-1.113925</td>\n",
       "      <td>2.913040</td>\n",
       "      <td>24.100000</td>\n",
       "    </tr>\n",
       "    <tr>\n",
       "      <th>10</th>\n",
       "      <td>77.185974</td>\n",
       "      <td>-1.861959</td>\n",
       "      <td>2.535947</td>\n",
       "      <td>24.100002</td>\n",
       "    </tr>\n",
       "    <tr>\n",
       "      <th>11</th>\n",
       "      <td>78.713347</td>\n",
       "      <td>-2.077627</td>\n",
       "      <td>2.430771</td>\n",
       "      <td>24.100001</td>\n",
       "    </tr>\n",
       "    <tr>\n",
       "      <th>12</th>\n",
       "      <td>80.140217</td>\n",
       "      <td>-2.280079</td>\n",
       "      <td>2.331432</td>\n",
       "      <td>24.100000</td>\n",
       "    </tr>\n",
       "    <tr>\n",
       "      <th>13</th>\n",
       "      <td>82.708485</td>\n",
       "      <td>-2.644084</td>\n",
       "      <td>2.129069</td>\n",
       "      <td>24.100000</td>\n",
       "    </tr>\n",
       "    <tr>\n",
       "      <th>14</th>\n",
       "      <td>84.925156</td>\n",
       "      <td>-2.945071</td>\n",
       "      <td>1.903323</td>\n",
       "      <td>24.100000</td>\n",
       "    </tr>\n",
       "    <tr>\n",
       "      <th>15</th>\n",
       "      <td>86.826486</td>\n",
       "      <td>-3.177329</td>\n",
       "      <td>1.626012</td>\n",
       "      <td>24.100000</td>\n",
       "    </tr>\n",
       "    <tr>\n",
       "      <th>16</th>\n",
       "      <td>88.448663</td>\n",
       "      <td>-3.357526</td>\n",
       "      <td>1.183599</td>\n",
       "      <td>24.100000</td>\n",
       "    </tr>\n",
       "    <tr>\n",
       "      <th>17</th>\n",
       "      <td>89.166000</td>\n",
       "      <td>-3.428000</td>\n",
       "      <td>0.600000</td>\n",
       "      <td>24.100000</td>\n",
       "    </tr>\n",
       "  </tbody>\n",
       "</table>\n",
       "</div>"
      ],
      "text/plain": [
       "            r       beta         c         t_c\n",
       "0    2.800000  14.500000  5.380000  100.000000\n",
       "1   11.002738  14.432009  5.452480   86.049148\n",
       "2   16.871021  12.545974  5.866004   61.096958\n",
       "3   22.964123   8.892452  6.184511   43.035645\n",
       "4   32.307638   6.382198  6.019962   32.415053\n",
       "5   41.573020   4.673576  5.421891   27.810348\n",
       "6   50.411062   2.886552  4.698220   25.317976\n",
       "7   58.534435   1.207190  3.998680   24.264420\n",
       "8   65.750095  -0.130380  3.398094   24.100682\n",
       "9   71.967492  -1.113925  2.913040   24.100000\n",
       "10  77.185974  -1.861959  2.535947   24.100002\n",
       "11  78.713347  -2.077627  2.430771   24.100001\n",
       "12  80.140217  -2.280079  2.331432   24.100000\n",
       "13  82.708485  -2.644084  2.129069   24.100000\n",
       "14  84.925156  -2.945071  1.903323   24.100000\n",
       "15  86.826486  -3.177329  1.626012   24.100000\n",
       "16  88.448663  -3.357526  1.183599   24.100000\n",
       "17  89.166000  -3.428000  0.600000   24.100000"
      ]
     },
     "execution_count": 25,
     "metadata": {},
     "output_type": "execute_result"
    }
   ],
   "source": [
    "blade_dat"
   ]
  },
  {
   "cell_type": "code",
   "execution_count": 36,
   "metadata": {},
   "outputs": [],
   "source": [
    "u, pitch, RPM = 11, 0, 8.032\n",
    "TSR= (RPM * np.pi / 30) * 89.166 / u"
   ]
  },
  {
   "cell_type": "code",
   "execution_count": 37,
   "metadata": {},
   "outputs": [],
   "source": [
    "R=89.166\n",
    "B=3\n",
    "P_rat=10000*10**3\n",
    "u_cutin=4\n",
    "u_cutout=25\n",
    "rho=1.225"
   ]
  },
  {
   "cell_type": "code",
   "execution_count": 38,
   "metadata": {},
   "outputs": [
    {
     "name": "stdout",
     "output_type": "stream",
     "text": [
      "11\n",
      "0.12336902250351664\n"
     ]
    },
    {
     "data": {
      "text/plain": [
       "(-40.25396832725782, 188.0143668766659)"
      ]
     },
     "execution_count": 38,
     "metadata": {},
     "output_type": "execute_result"
    }
   ],
   "source": [
    "normal_tangential_loads(TSR,u,blade_dat.beta[0]+pitch,blade_dat.r[0],blade_dat.c[0],blade_dat.t_c[0])"
   ]
  },
  {
   "cell_type": "code",
   "execution_count": 39,
   "metadata": {
    "collapsed": true
   },
   "outputs": [
    {
     "name": "stdout",
     "output_type": "stream",
     "text": [
      "11\n",
      "0.12336902250351664\n",
      "11\n",
      "0.06286027120689386\n",
      "11\n",
      "0.07699535513942156\n",
      "11\n",
      "0.15139514777573887\n",
      "11\n",
      "0.3241590241162338\n",
      "11\n",
      "0.29735402527769783\n",
      "11\n",
      "0.3009053943461688\n",
      "11\n",
      "0.304867406073203\n",
      "11\n",
      "0.30316312721949523\n",
      "11\n",
      "0.29841433002902606\n",
      "11\n",
      "0.29956525858768424\n",
      "11\n",
      "0.3029340575627467\n",
      "11\n",
      "0.3080290978840677\n",
      "11\n",
      "0.322545866146335\n",
      "0.34037207331681424\n",
      "CT glauert= 0.6204772198900248, and a = 0.3435848066913378\n",
      "11\n",
      "0.3435848066913378\n",
      "0.36640967466875163\n",
      "CT glauert= 0.5247251514001282, and a = 0.37680538306066275\n",
      "11\n",
      "0.37680538306066275\n",
      "0.4261883436858461\n",
      "CT glauert= 0.3555676790238504, and a = 0.4517671154389697\n",
      "11\n",
      "0.4517671154389697\n",
      "1.0\n",
      "CT glauert= 1.0, and a = 1.0\n",
      "11\n",
      "1.0\n"
     ]
    },
    {
     "name": "stderr",
     "output_type": "stream",
     "text": [
      "C:\\Users\\Usuario\\anaconda3\\lib\\site-packages\\ipykernel_launcher.py:11: RuntimeWarning: invalid value encountered in double_scalars\n",
      "  # This is added back by InteractiveShellApp.init_path()\n"
     ]
    }
   ],
   "source": [
    " P,T,pT,pN=power(TSR,u,blade_dat.beta+pitch,blade_dat.r,blade_dat.c,blade_dat.t_c)"
   ]
  },
  {
   "cell_type": "code",
   "execution_count": 40,
   "metadata": {},
   "outputs": [
    {
     "data": {
      "text/plain": [
       "array([-0.04025397, -0.06929536,  0.1165336 ,  0.46160868,  1.1060276 ,\n",
       "        1.09929054,  1.09867019,  1.09380389,  1.07668359,  1.04096149,\n",
       "        0.98280996,  0.95729271,  0.92766592,  0.85150177,  0.74751306,\n",
       "        0.60290028,  0.36431454,         nan,  0.        ])"
      ]
     },
     "execution_count": 40,
     "metadata": {},
     "output_type": "execute_result"
    }
   ],
   "source": [
    "pT/1000"
   ]
  },
  {
   "cell_type": "code",
   "execution_count": null,
   "metadata": {},
   "outputs": [],
   "source": []
  },
  {
   "cell_type": "markdown",
   "metadata": {},
   "source": [
    "## Q1 Compute the normal and tangential loads for ws 6,11 and 20 m/s."
   ]
  },
  {
   "cell_type": "code",
   "execution_count": null,
   "metadata": {},
   "outputs": [],
   "source": [
    "u,pitch,rpm=WT_data.loc[6]"
   ]
  },
  {
   "cell_type": "code",
   "execution_count": null,
   "metadata": {},
   "outputs": [],
   "source": [
    "WT_data.loc[6]"
   ]
  },
  {
   "cell_type": "code",
   "execution_count": null,
   "metadata": {},
   "outputs": [],
   "source": [
    "P[0]"
   ]
  },
  {
   "cell_type": "code",
   "execution_count": null,
   "metadata": {},
   "outputs": [],
   "source": [
    "u=[6,11,20]\n",
    "#u=[6]\n",
    "P=np.zeros(len(u))\n",
    "T=np.zeros(len(u))\n",
    "\n",
    "df=blade_dat.iloc[0:-1]   #?\n",
    "\n",
    "pN=np.zeros([len(u),len(df.r)+1])\n",
    "pT=np.zeros([len(u),len(df.r)+1])\n",
    "\n",
    "for j in range(len(u)):\n",
    "    w=WT_data.loc[u[j]].RPM*np.pi/30\n",
    "    pitch=WT_data.loc[u[j]].pitch\n",
    "    TSR=w*R/u[j]\n",
    "    print(TSR)\n",
    "    print(w)\n",
    "    print(pitch)\n",
    "    P[j],T[j],pT[j,],pN[j,]=power(TSR,u[j],df.beta+pitch,df.r,df.c,df.t_c)\n",
    "power_plotter(u,P/10**6)\n",
    "thrust_plotter(u,T/10**3)"
   ]
  },
  {
   "cell_type": "code",
   "execution_count": null,
   "metadata": {},
   "outputs": [],
   "source": [
    "P"
   ]
  },
  {
   "cell_type": "code",
   "execution_count": null,
   "metadata": {},
   "outputs": [],
   "source": [
    "pN[0]"
   ]
  },
  {
   "cell_type": "markdown",
   "metadata": {},
   "source": [
    "Check load distribution from Martin"
   ]
  },
  {
   "cell_type": "code",
   "execution_count": null,
   "metadata": {},
   "outputs": [],
   "source": [
    "#Plot the loads.\n",
    "plt.figure(figsize=[20,12])\n",
    "plt.plot(blade_dat.r, pN[0])\n",
    "plt.plot(blade_dat.r, pT[0])\n",
    "plt.ylabel('N/m', fontsize=18)\n",
    "plt.xlabel('r [m]')\n",
    "plt.grid()"
   ]
  },
  {
   "cell_type": "markdown",
   "metadata": {},
   "source": [
    "# Q2 compute  shear stress and the bending moment  distribution for the three wind speeds"
   ]
  },
  {
   "cell_type": "code",
   "execution_count": null,
   "metadata": {},
   "outputs": [],
   "source": [
    "def shear(pT,pN,r):\n",
    "    N=len(pT)\n",
    "    Ty,Tz=np.zeros(N),np.zeros(N)\n",
    "    \n",
    "    for i in range(2,N+1):\n",
    "        Ty[N-i]=Ty[N-i+1]+0.5*(pT[N-i]+pT[N-i+1])*(r[N-i+1]-r[N-i])\n",
    "        Tz[N-i]=Tz[N-i+1]+0.5*(pN[N-i]+pN[N-i+1])*(r[N-i+1]-r[N-i])\n",
    "    \n",
    "    return Ty,Tz\n",
    "\n",
    "def bending(Ty,Tz,pT,pN,r):\n",
    "    N=len(Ty)\n",
    "    My,Mz=np.zeros(N),np.zeros(N)\n",
    "    \n",
    "    for i in range(2,N+1):\n",
    "        My[N-i]=My[N-i+1]-Tz[N-i+1]*(r[N-i+1]-r[N-i])-(1/6*pN[N-i]+1/3*pN[N-i+1])*(r[N-i+1]-r[N-i])**2\n",
    "        Mz[N-i]=Mz[N-i+1]+Ty[N-i+1]*(r[N-i+1]-r[N-i])+(1/6*pT[N-i]+1/3*pT[N-i+1])*(r[N-i+1]-r[N-i])**2\n",
    "        \n",
    "        \n",
    "    return My,Mz\n",
    "    "
   ]
  },
  {
   "cell_type": "code",
   "execution_count": null,
   "metadata": {},
   "outputs": [],
   "source": [
    "#Plot the shear\n",
    "plt.figure(figsize=[20,12])\n",
    "plt.plot(blade_dat.r, shear(pT[0],pN[0],blade_dat.r)[0])   #Ty\n",
    "plt.plot(blade_dat.r, shear(pT[0],pN[0],blade_dat.r)[1])\n",
    "plt.ylabel('N (?)', fontsize=18)\n",
    "plt.xlabel('r [m]')\n",
    "plt.grid()"
   ]
  },
  {
   "cell_type": "code",
   "execution_count": null,
   "metadata": {},
   "outputs": [],
   "source": [
    "#Plot the bending moment.\n",
    "N=len(blade_dat.r)\n",
    "Ty,Tz,My,Mz=np.zeros([len(u),N]),np.zeros([len(u),N]),np.zeros([len(u),N]),np.zeros([len(u),N])\n",
    "for i in range(len(u)):  #Just if more than 1 plot is needed. \n",
    "    Ty[i,],Tz[i,]=shear(pT[i,],pN[i,],blade_dat.r.values)\n",
    "    My[i,],Mz[i,]=bending(Ty[i,],Tz[i,],pT[i,],pN[i,],blade_dat.r.values)\n",
    "    bending_plotter(blade_dat.r.values,Mz[i,],My[i,],u[i])   #change here Mz and My for Tz-Ty for plotting shear.\n",
    "    "
   ]
  },
  {
   "cell_type": "markdown",
   "metadata": {},
   "source": [
    "# Q3 - static deflections"
   ]
  },
  {
   "cell_type": "markdown",
   "metadata": {},
   "source": [
    "#  carga bladestruc"
   ]
  },
  {
   "cell_type": "code",
   "execution_count": null,
   "metadata": {},
   "outputs": [],
   "source": [
    "#EI [Nm^2]\n",
    "#mass [kg/m]\n",
    "#pitch and twist in deg\n",
    "blade_str=pd.read_csv('bladestruc.txt',names=[\"r\",\"struc_pitch\",\"mass\",\"EIy\",\"EIz\",\"twist\"], sep='\\s+')"
   ]
  },
  {
   "cell_type": "code",
   "execution_count": null,
   "metadata": {},
   "outputs": [],
   "source": [
    "np.arange(0,1.01,0.01)"
   ]
  },
  {
   "cell_type": "code",
   "execution_count": null,
   "metadata": {},
   "outputs": [],
   "source": [
    "#convert beta to rad?\n",
    "def deflector(My,Mz,EIy,EIz,beta,pitch,r):\n",
    "    EI1,EI2=np.ones(101),np.ones(101)             #EIy,EIz\n",
    "    pitch=np.zeros(101)                 #np.deg2rad(pitch)\n",
    "    beta=np.zeros(101)                               #np.deg2rad(beta)\n",
    "    N=len(r)\n",
    "    #M1,M2=np.zeros(N),np.zeros(N)\n",
    "    #k1,k2=np.zeros(N),np.zeros(N)\n",
    "    #for i in range(N):\n",
    "        #M1[i]=My[i]*m.cos(beta[i]+pitch[i])-Mz[i]*m.sin(beta[i]+pitch[i])\n",
    "        #M2[i]=Mz[i]*m.sin(beta[i]+pitch[i])+Mz[i]*m.cos(beta[i]+pitch[i])\n",
    "    M1=My*np.cos(beta+pitch)-Mz*np.sin(beta+pitch)\n",
    "    M2=My*np.sin(beta+pitch)+Mz*np.cos(beta+pitch)\n",
    "    k1,k2=M1/EI1,M2/EI2\n",
    "    kz=-k1*np.sin(beta+pitch)+k2*np.cos(beta+pitch)\n",
    "    ky=k1*np.cos(beta+pitch)+k2*np.sin(beta+pitch)\n",
    "    \n",
    "    Thetay,Thetaz=np.zeros(N),np.zeros(N)\n",
    "    #BC:thetay[1]=0,thetaz[1]=0\n",
    "    for i in range(N-1):\n",
    "        Thetay[i+1]=Thetay[i]+0.5*(ky[i+1]+ky[i])*(r[i+1]-r[i])\n",
    "        Thetaz[i+1]=Thetaz[i]+0.5*(kz[i+1]+kz[i])*(r[i+1]-r[i])\n",
    "    #BC:uy[1]=0,uz[1]=0\n",
    "    uy,uz=np.zeros(N),np.zeros(N)\n",
    "    for i in range(N-1): \n",
    "        uy[i+1]=uy[i]+Thetaz[i]*(r[i+1]-r[i])+(1/6*kz[i+1]+1/3*kz[i])*(r[i+1]-r[i])**2\n",
    "        uz[i+1]=uz[i]-Thetay[i]*(r[i+1]-r[i])-(1/6*ky[i+1]+1/3*ky[i])*(r[i+1]-r[i])**2\n",
    "    \n",
    "    return uy,uz\n",
    "        \n",
    "        \n",
    "        "
   ]
  },
  {
   "cell_type": "code",
   "execution_count": null,
   "metadata": {},
   "outputs": [],
   "source": [
    "uy=np.zeros([len(u),len(blade_dat.r)])\n",
    "uz=np.zeros([len(u),len(blade_dat.r)])\n",
    "for i in range(len(u)):\n",
    "    r=blade_dat.r.values\n",
    "    uy[i,],uz[i,]=deflector(My[i,],Mz[i,],blade_str.EIy.values,blade_str.EIz.values,blade_str.twist.values,blade_str.struc_pitch.values,r)\n",
    "    deflection_plotter(r,uy[i,],uz[i,],u[i])\n",
    "    "
   ]
  },
  {
   "cell_type": "code",
   "execution_count": null,
   "metadata": {},
   "outputs": [],
   "source": [
    "uz[1,]"
   ]
  },
  {
   "cell_type": "markdown",
   "metadata": {},
   "source": [
    "#### Why less deflection at high wind speeds?\n",
    "BC of deloading the blade, and when you pitch the blade it can bend less in streamwise dir."
   ]
  },
  {
   "cell_type": "markdown",
   "metadata": {},
   "source": [
    "# Eigenvalues"
   ]
  },
  {
   "cell_type": "code",
   "execution_count": null,
   "metadata": {},
   "outputs": [],
   "source": [
    "def deflect(pT,pN):\n",
    "    r=np.arange(0,1.01,0.01)\n",
    "    Ty,Tz=shear(pT,pN,r)\n",
    "    My,Mz=bending(Ty,Tz,pT,pN,r)\n",
    "    #bending_plotter(blade_dat.r.values,Mz,My,u) #needs u.....\n",
    "    uy,uz=deflector(My,Mz,blade_str.EIy.values,blade_str.EIz.values,blade_str.twist.values,blade_str.struc_pitch.values,r)\n",
    "    #deflection_plotter(r,uy,uz,\"NA\")\n",
    "    return uy,uz\n"
   ]
  },
  {
   "cell_type": "code",
   "execution_count": null,
   "metadata": {},
   "outputs": [],
   "source": [
    "#stiffness matrix\n",
    "def stiff():\n",
    "    \"\"\"Compute the stiffnes matrix with dimension 2*N-2 , where N=len(blade_dar.r)\"\"\"\n",
    "    N=101          #len(blade_dat.r.values)\n",
    "    M=2*N-2\n",
    "    pN=np.zeros(N)\n",
    "    pT=np.zeros(N)\n",
    "    a=np.zeros([M,M])\n",
    "    j=0\n",
    "    for i in range(len(blade_str.r)-1):\n",
    "        pT[i+1]=1\n",
    "        uy,uz=deflect(pT,pN)\n",
    "        a[:,j]=np.append(uy[1:],uz[1:])\n",
    "#         if i==0:\n",
    "#             print(a[:,j])\n",
    "#             print(a[:,j].shape)\n",
    "        pT[i+1]=0\n",
    "        pN[i+1]=1\n",
    "        uy,uz=deflect(pT,pN)\n",
    "        a[:,j+1]=np.append(uy[1:],uz[1:])\n",
    "        pN[i+1]=0\n",
    "        j+=2\n",
    "    F=np.zeros([M,M])\n",
    "    for i in range(M):\n",
    "        j=0\n",
    "        for k in range(N-1):\n",
    "            F[j,i]=a[k,i]\n",
    "            F[j+1,i]=a[N-1+k,i]\n",
    "            j+=2\n",
    "    return F\n",
    "     \n",
    "    "
   ]
  },
  {
   "cell_type": "code",
   "execution_count": null,
   "metadata": {},
   "outputs": [],
   "source": [
    "Fconst=stiff()\n",
    "Fconst"
   ]
  },
  {
   "cell_type": "code",
   "execution_count": null,
   "metadata": {},
   "outputs": [],
   "source": [
    "F=stiff()\n",
    "F"
   ]
  },
  {
   "cell_type": "markdown",
   "metadata": {},
   "source": [
    "## testing correct F? "
   ]
  },
  {
   "cell_type": "code",
   "execution_count": null,
   "metadata": {},
   "outputs": [],
   "source": [
    "#loads for u=10\n",
    "PTN2=np.zeros(2*int(len(pT[2,])-1))\n",
    "j=0\n",
    "for k in range(1,len(pT[2,])):\n",
    "    PTN2[j]=pT[2,k]\n",
    "    PTN2[j+1]=pN[2,k]\n",
    "    j+=2\n",
    "UTN2=np.zeros(2*int(len(uy[2,])-1))\n",
    "j=0\n",
    "for k in range(1,len(uy[2,])):\n",
    "    UTN2[j]=uy[2,k]\n",
    "    UTN2[j+1]=uz[2,k]\n",
    "    j+=2"
   ]
  },
  {
   "cell_type": "code",
   "execution_count": null,
   "metadata": {},
   "outputs": [],
   "source": [
    "F.dot(PTN2.T)"
   ]
  },
  {
   "cell_type": "code",
   "execution_count": null,
   "metadata": {},
   "outputs": [],
   "source": [
    "uz[2,]"
   ]
  },
  {
   "cell_type": "code",
   "execution_count": null,
   "metadata": {},
   "outputs": [],
   "source": [
    "uy[2,]"
   ]
  },
  {
   "cell_type": "code",
   "execution_count": null,
   "metadata": {},
   "outputs": [],
   "source": [
    "np.ones(101)"
   ]
  },
  {
   "cell_type": "code",
   "execution_count": null,
   "metadata": {},
   "outputs": [],
   "source": [
    "# mass matrix\n",
    "M=np.zeros(2*len(np.ones(101))-2)\n",
    "j=0\n",
    "for i in np.ones(101)[1:]:\n",
    "    M[j]=i\n",
    "    M[j+1]=i\n",
    "    j+=2"
   ]
  },
  {
   "cell_type": "code",
   "execution_count": null,
   "metadata": {},
   "outputs": [],
   "source": [
    "M=np.diag(M)"
   ]
  },
  {
   "cell_type": "code",
   "execution_count": null,
   "metadata": {},
   "outputs": [],
   "source": [
    "M"
   ]
  },
  {
   "cell_type": "code",
   "execution_count": null,
   "metadata": {},
   "outputs": [],
   "source": [
    "M.shape"
   ]
  },
  {
   "cell_type": "code",
   "execution_count": null,
   "metadata": {},
   "outputs": [],
   "source": [
    "eigvals,eigvecs=np.linalg.eig(np.dot(Fconst,M))"
   ]
  },
  {
   "cell_type": "code",
   "execution_count": null,
   "metadata": {},
   "outputs": [],
   "source": [
    "eigvecs"
   ]
  },
  {
   "cell_type": "code",
   "execution_count": null,
   "metadata": {},
   "outputs": [],
   "source": [
    "nmode=3\n",
    "r=np.arange(0,1.01,0.01)\n",
    "ymodes=np.zeros([len(r)-1,nmode])\n",
    "zmodes=np.zeros([len(r)-1,nmode])\n",
    "for j in range(nmode):\n",
    "    #decoupling of eigenvectors\n",
    "    ymodes[:,j]=eigvecs[np.arange(0,(len(r)-1)*2,2),j]\n",
    "    zmodes[:,j]=eigvecs[np.arange(1,(len(r)-1)*2,2),j]\n",
    "\n",
    "    if max(abs(ymodes[:,j]))>max(abs(zmodes[:,j])):\n",
    "        standard=max(abs(ymodes[:,j]))\n",
    "    else:\n",
    "        standard=max(abs(zmodes[:,j]))\n",
    "    eigen_plotter(r[1:]/R,ymodes[:,j]/standard,zmodes[:,j]/standard,np.sqrt(1/eigvals[2*j]),np.sqrt(1/eigvals[2*j+1]))"
   ]
  },
  {
   "cell_type": "markdown",
   "metadata": {},
   "source": [
    "## Plots in bigger cells"
   ]
  },
  {
   "cell_type": "code",
   "execution_count": null,
   "metadata": {},
   "outputs": [],
   "source": [
    "eigen_plotter(r[1:]/R,ymodes[:,0]/max(abs(zmodes[:,0])),zmodes[:,0]/max(abs(zmodes[:,0])),np.sqrt(1/eigvals[2*0]),np.sqrt(1/eigvals[2*0+1]))"
   ]
  },
  {
   "cell_type": "code",
   "execution_count": null,
   "metadata": {},
   "outputs": [],
   "source": [
    "eigen_plotter(r[1:]/R,ymodes[:,1]/max(abs(ymodes[:,1])),zmodes[:,1]/max(abs(ymodes[:,1])),np.sqrt(1/eigvals[2*1]),np.sqrt(1/eigvals[2*1+1]))"
   ]
  },
  {
   "cell_type": "code",
   "execution_count": null,
   "metadata": {},
   "outputs": [],
   "source": [
    "eigen_plotter(r[1:]/R,ymodes[:,2]/max(abs(zmodes[:,2])),zmodes[:,2]/max(abs(zmodes[:,2])),np.sqrt(1/eigvals[2*2]),np.sqrt(1/eigvals[2*2+1]))"
   ]
  },
  {
   "cell_type": "code",
   "execution_count": null,
   "metadata": {},
   "outputs": [],
   "source": [
    "zmodes[:,1]"
   ]
  },
  {
   "cell_type": "code",
   "execution_count": null,
   "metadata": {},
   "outputs": [],
   "source": [
    "deflector(My,Mz,EIy,EIz,beta,pitch,r)"
   ]
  }
 ],
 "metadata": {
  "hide_input": false,
  "kernelspec": {
   "display_name": "Python 3",
   "language": "python",
   "name": "python3"
  },
  "language_info": {
   "codemirror_mode": {
    "name": "ipython",
    "version": 3
   },
   "file_extension": ".py",
   "mimetype": "text/x-python",
   "name": "python",
   "nbconvert_exporter": "python",
   "pygments_lexer": "ipython3",
   "version": "3.7.6"
  }
 },
 "nbformat": 4,
 "nbformat_minor": 2
}
